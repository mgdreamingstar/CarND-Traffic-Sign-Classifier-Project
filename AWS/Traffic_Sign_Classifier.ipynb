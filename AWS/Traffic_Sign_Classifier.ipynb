{
 "cells": [
  {
   "cell_type": "markdown",
   "metadata": {},
   "source": [
    "# Self-Driving Car Engineer Nanodegree\n",
    "\n",
    "## Deep Learning\n",
    "\n",
    "## Project: Build a Traffic Sign Recognition Classifier\n",
    "\n",
    "In this notebook, a template is provided for you to implement your functionality in stages, which is required to successfully complete this project. If additional code is required that cannot be included in the notebook, be sure that the Python code is successfully imported and included in your submission if necessary. \n",
    "\n",
    "> **Note**: Once you have completed all of the code implementations, you need to finalize your work by exporting the iPython Notebook as an HTML document. Before exporting the notebook to html, all of the code cells need to have been run so that reviewers can see the final implementation and output. You can then export the notebook by using the menu above and navigating to  \\n\",\n",
    "    \"**File -> Download as -> HTML (.html)**. Include the finished document along with this notebook as your submission. \n",
    "\n",
    "In addition to implementing code, there is a writeup to complete. The writeup should be completed in a separate file, which can be either a markdown file or a pdf document. There is a [write up template](https://github.com/udacity/CarND-Traffic-Sign-Classifier-Project/blob/master/writeup_template.md) that can be used to guide the writing process. Completing the code template and writeup template will cover all of the [rubric points](https://review.udacity.com/#!/rubrics/481/view) for this project.\n",
    "\n",
    "The [rubric](https://review.udacity.com/#!/rubrics/481/view) contains \"Stand Out Suggestions\" for enhancing the project beyond the minimum requirements. The stand out suggestions are optional. If you decide to pursue the \"stand out suggestions\", you can include the code in this Ipython notebook and also discuss the results in the writeup file.\n",
    "\n",
    "\n",
    ">**Note:** Code and Markdown cells can be executed using the **Shift + Enter** keyboard shortcut. In addition, Markdown cells can be edited by typically double-clicking the cell to enter edit mode."
   ]
  },
  {
   "cell_type": "markdown",
   "metadata": {},
   "source": [
    "---\n",
    "## Step 0: Load The Data"
   ]
  },
  {
   "cell_type": "markdown",
   "metadata": {},
   "source": [
    "Download the dataset if it hasn't been downloaded."
   ]
  },
  {
   "cell_type": "code",
   "execution_count": 1,
   "metadata": {
    "collapsed": false
   },
   "outputs": [],
   "source": [
    "import urllib.request as ulr\n",
    "import zipfile, glob, os\n",
    "os.chdir('/home/carnd/traffic-signs')\n",
    "if not (glob.glob('traffic-signs-data.zip') or glob.glob('test.p')):\n",
    "    filez, headers = ulr.urlretrieve('https://d17h27t6h515a5.cloudfront.net/topher/2017/February/5898cd6f_traffic-signs-data/traffic-signs-data.zip','traffic-signs-data.zip')"
   ]
  },
  {
   "cell_type": "markdown",
   "metadata": {},
   "source": [
    "Extract the zip file if it hasn't been unzipped."
   ]
  },
  {
   "cell_type": "code",
   "execution_count": 2,
   "metadata": {
    "collapsed": false
   },
   "outputs": [],
   "source": [
    "if not (glob.glob('train.p')):\n",
    "    data = zipfile.ZipFile(filez,'r')\n",
    "    data.extractall()\n",
    "    data.close()"
   ]
  },
  {
   "cell_type": "code",
   "execution_count": 3,
   "metadata": {
    "collapsed": false
   },
   "outputs": [],
   "source": [
    "# Load pickled data\n",
    "import pickle\n",
    "import os\n",
    "cwd = os.getcwd()\n",
    "\n",
    "# TODO: Fill this in based on where you saved the training and testing data\n",
    "\n",
    "training_file =  os.path.join(cwd,'train.p')\n",
    "validation_file = os.path.join(cwd, 'valid.p')\n",
    "testing_file = os.path.join(cwd ,'test.p')\n",
    "\n",
    "with open(training_file, mode='rb') as f:\n",
    "    train = pickle.load(f)\n",
    "with open(validation_file, mode='rb') as f:\n",
    "    valid = pickle.load(f)\n",
    "with open(testing_file, mode='rb') as f:\n",
    "    test = pickle.load(f)\n",
    "    \n",
    "X_train, y_train = train['features'], train['labels']\n",
    "X_valid, y_valid = valid['features'], valid['labels']\n",
    "X_test, y_test = test['features'], test['labels']"
   ]
  },
  {
   "cell_type": "code",
   "execution_count": 4,
   "metadata": {
    "collapsed": false
   },
   "outputs": [
    {
     "data": {
      "text/plain": [
       "dict_keys(['coords', 'features', 'sizes', 'labels'])"
      ]
     },
     "execution_count": 4,
     "metadata": {},
     "output_type": "execute_result"
    }
   ],
   "source": [
    "train.keys()"
   ]
  },
  {
   "cell_type": "code",
   "execution_count": 5,
   "metadata": {
    "collapsed": false
   },
   "outputs": [
    {
     "name": "stdout",
     "output_type": "stream",
     "text": [
      "(4410, 32, 32, 3)\n",
      "(12630, 32, 32, 3)\n"
     ]
    }
   ],
   "source": [
    "print(X_valid.shape)\n",
    "print(X_test.shape)"
   ]
  },
  {
   "cell_type": "markdown",
   "metadata": {},
   "source": [
    "---\n",
    "\n",
    "## Step 1: Dataset Summary & Exploration\n",
    "\n",
    "The pickled data is a dictionary with 4 key/value pairs:\n",
    "\n",
    "- `'features'` is a 4D array containing raw pixel data of the traffic sign images, (num examples, width, height, channels).\n",
    "- `'labels'` is a 1D array containing the label/class id of the traffic sign. The file `signnames.csv` contains id -> name mappings for each id.\n",
    "- `'sizes'` is a list containing tuples, (width, height) representing the original width and height the image.\n",
    "- `'coords'` is a list containing tuples, (x1, y1, x2, y2) representing coordinates of a bounding box around the sign in the image. **THESE COORDINATES ASSUME THE ORIGINAL IMAGE. THE PICKLED DATA CONTAINS RESIZED VERSIONS (32 by 32) OF THESE IMAGES**\n",
    "\n",
    "Complete the basic data summary below. Use python, numpy and/or pandas methods to calculate the data summary rather than hard coding the results. For example, the [pandas shape method](http://pandas.pydata.org/pandas-docs/stable/generated/pandas.DataFrame.shape.html) might be useful for calculating some of the summary results. "
   ]
  },
  {
   "cell_type": "markdown",
   "metadata": {},
   "source": [
    "### Provide a Basic Summary of the Data Set Using Python, Numpy and/or Pandas"
   ]
  },
  {
   "cell_type": "code",
   "execution_count": 6,
   "metadata": {
    "collapsed": false
   },
   "outputs": [
    {
     "name": "stdout",
     "output_type": "stream",
     "text": [
      "The shape of the pictures is (32, 32)\n"
     ]
    }
   ],
   "source": [
    "import numpy as np\n",
    "np.shape(X_train)\n",
    "print('The shape of the pictures is {}'.format(repr(X_train[0,0:32,0:32,0].shape)))"
   ]
  },
  {
   "cell_type": "code",
   "execution_count": 7,
   "metadata": {
    "collapsed": false
   },
   "outputs": [
    {
     "name": "stdout",
     "output_type": "stream",
     "text": [
      "Number of training examples = 34799\n",
      "Number of testing examples = 12630\n",
      "Image data shape = (32, 32)\n",
      "Number of classes = 43\n"
     ]
    }
   ],
   "source": [
    "### Replace each question mark with the appropriate value. \n",
    "### Use python, pandas or numpy methods rather than hard coding the results\n",
    "import numpy as np\n",
    "import pandas as pd\n",
    "# TODO: Number of training examples\n",
    "n_train = np.shape(X_train)[0]\n",
    "\n",
    "# TODO: Number of validation examples\n",
    "n_validation = np.shape(X_valid)[0]\n",
    "\n",
    "# TODO: Number of testing examples.\n",
    "n_test = np.shape(X_test)[0]\n",
    "\n",
    "# TODO: What's the shape of an traffic sign image?\n",
    "image_shape = (np.shape(X_train)[1],np.shape(X_train)[2])\n",
    "\n",
    "# TODO: How many unique classes/labels there are in the dataset.\n",
    "\n",
    "signnames = []\n",
    "with open(os.path.join(cwd, 'signnames.csv'),'rb') as signnamescsv:\n",
    "    for row in signnamescsv:\n",
    "        signnames.append(row.decode('utf-8').rstrip().split(',')[1])\n",
    "signnames = pd.Series(signnames[1:])\n",
    "n_classes = signnames.shape[0]\n",
    "\n",
    "print(\"Number of training examples =\", n_train)\n",
    "print(\"Number of testing examples =\", n_test)\n",
    "print(\"Image data shape =\", image_shape)\n",
    "print(\"Number of classes =\", n_classes)"
   ]
  },
  {
   "cell_type": "markdown",
   "metadata": {},
   "source": [
    "### Include an exploratory visualization of the dataset"
   ]
  },
  {
   "cell_type": "markdown",
   "metadata": {},
   "source": [
    "Visualize the German Traffic Signs Dataset using the pickled file(s). This is open ended, suggestions include: plotting traffic sign images, plotting the count of each sign, etc. \n",
    "\n",
    "The [Matplotlib](http://matplotlib.org/) [examples](http://matplotlib.org/examples/index.html) and [gallery](http://matplotlib.org/gallery.html) pages are a great resource for doing visualizations in Python.\n",
    "\n",
    "**NOTE:** It's recommended you start with something simple first. If you wish to do more, come back to it after you've completed the rest of the sections. It can be interesting to look at the distribution of classes in the training, validation and test set. Is the distribution the same? Are there more examples of some classes than others?"
   ]
  },
  {
   "cell_type": "code",
   "execution_count": 8,
   "metadata": {
    "collapsed": false
   },
   "outputs": [
    {
     "name": "stdout",
     "output_type": "stream",
     "text": [
      "        Number of Signs                                      Name of Signs\n",
      "labels                                                                    \n",
      "0                   180                               Speed limit (20km/h)\n",
      "1                  1980                               Speed limit (30km/h)\n",
      "2                  2010                               Speed limit (50km/h)\n",
      "3                  1260                               Speed limit (60km/h)\n",
      "4                  1770                               Speed limit (70km/h)\n",
      "5                  1650                               Speed limit (80km/h)\n",
      "6                   360                        End of speed limit (80km/h)\n",
      "7                  1290                              Speed limit (100km/h)\n",
      "8                  1260                              Speed limit (120km/h)\n",
      "9                  1320                                         No passing\n",
      "10                 1800       No passing for vehicles over 3.5 metric tons\n",
      "11                 1170              Right-of-way at the next intersection\n",
      "12                 1890                                      Priority road\n",
      "13                 1920                                              Yield\n",
      "14                  690                                               Stop\n",
      "15                  540                                        No vehicles\n",
      "16                  360           Vehicles over 3.5 metric tons prohibited\n",
      "17                  990                                           No entry\n",
      "18                 1080                                    General caution\n",
      "19                  180                        Dangerous curve to the left\n",
      "20                  300                       Dangerous curve to the right\n",
      "21                  270                                       Double curve\n",
      "22                  330                                         Bumpy road\n",
      "23                  450                                      Slippery road\n",
      "24                  240                          Road narrows on the right\n",
      "25                 1350                                          Road work\n",
      "26                  540                                    Traffic signals\n",
      "27                  210                                        Pedestrians\n",
      "28                  480                                  Children crossing\n",
      "29                  240                                  Bicycles crossing\n",
      "30                  390                                 Beware of ice/snow\n",
      "31                  690                              Wild animals crossing\n",
      "32                  210                End of all speed and passing limits\n",
      "33                  599                                   Turn right ahead\n",
      "34                  360                                    Turn left ahead\n",
      "35                 1080                                         Ahead only\n",
      "36                  330                               Go straight or right\n",
      "37                  180                                Go straight or left\n",
      "38                 1860                                         Keep right\n",
      "39                  270                                          Keep left\n",
      "40                  300                               Roundabout mandatory\n",
      "41                  210                                  End of no passing\n",
      "42                  210  End of no passing by vehicles over 3.5 metric ...\n"
     ]
    }
   ],
   "source": [
    "### Data exploration visualization code goes here.\n",
    "### Feel free to use as many code cells as needed.\n",
    "import matplotlib.pyplot as plt\n",
    "# import cv2\n",
    "# Visualizations will be shown in the notebook.\n",
    "%matplotlib inline\n",
    "labelsgroup = pd.DataFrame({'labels':train['labels']})\n",
    "summary = pd.DataFrame(labelsgroup.groupby('labels').size())\n",
    "summary.insert(1,'Signs',signnames)\n",
    "summary.columns = ['Number of Signs','Name of Signs']\n",
    "print(summary)"
   ]
  },
  {
   "cell_type": "code",
   "execution_count": 9,
   "metadata": {
    "collapsed": false
   },
   "outputs": [
    {
     "data": {
      "text/plain": [
       "<matplotlib.image.AxesImage at 0x7f0696050eb8>"
      ]
     },
     "execution_count": 9,
     "metadata": {},
     "output_type": "execute_result"
    },
    {
     "data": {
      "image/png": "[encoded data removed]",
      "text/plain": [
       "<matplotlib.figure.Figure at 0x7f06962f5cc0>"
      ]
     },
     "metadata": {},
     "output_type": "display_data"
    }
   ],
   "source": [
    "n = 1000\n",
    "# b = X_train[n,0:32,0:32,0]\n",
    "# r = X_train[n,0:32,0:32,1]\n",
    "# g = X_train[n,0:32,0:32,2]\n",
    "# img = np.dstack([b,r,g])\n",
    "# img1 = cv2.merge([b,r,g])\n",
    "# plt.imshow(img1)\n",
    "fig,(ax1,ax2) = plt.subplots(1,2,figsize = (4,4))\n",
    "img = X_train[n,...].squeeze()\n",
    "ax1.set_title('No. {} Picture'.format(n))\n",
    "ax1.imshow(img)\n",
    "img1 = X_train[n+1000,...].squeeze()\n",
    "ax2.set_title('No. {} Picture'.format(n+1000))\n",
    "ax2.imshow(img1)"
   ]
  },
  {
   "cell_type": "code",
   "execution_count": 10,
   "metadata": {
    "collapsed": false
   },
   "outputs": [
    {
     "name": "stdout",
     "output_type": "stream",
     "text": [
      "Train set's shape is (34799, 32, 32, 3)\n"
     ]
    },
    {
     "data": {
      "text/plain": [
       "<matplotlib.image.AxesImage at 0x7f068dc1e710>"
      ]
     },
     "execution_count": 10,
     "metadata": {},
     "output_type": "execute_result"
    },
    {
     "data": {
      "image/png": "[encoded data removed]",
      "text/plain": [
       "<matplotlib.figure.Figure at 0x7f0693fa80b8>"
      ]
     },
     "metadata": {},
     "output_type": "display_data"
    }
   ],
   "source": [
    "X_train_gray = np.dot(X_train[...,:],np.array([0.299, 0.587, 0.114]))\n",
    "X_valid_gray = np.dot(X_valid[...,:],np.array([0.299, 0.587, 0.114]))\n",
    "X_test_gray = np.dot(X_test[...,:],np.array([0.299, 0.587, 0.114]))\n",
    "print('Train set\\'s shape is {}'.format(X_train.shape))\n",
    "fig,(ax1,ax2) = plt.subplots(1,2,figsize = (4,4))\n",
    "img = X_train_gray[n,...].squeeze()\n",
    "ax1.set_title('No. {} Grayscale'.format(n))\n",
    "ax1.imshow(img,cmap = plt.get_cmap('gray'))\n",
    "img1 = X_train_gray[n+1000,...].squeeze()\n",
    "ax2.set_title('No. {} Grayscale'.format(n+1000))\n",
    "ax2.imshow(img1,cmap = plt.get_cmap('gray'))"
   ]
  },
  {
   "cell_type": "markdown",
   "metadata": {},
   "source": [
    "----\n",
    "\n",
    "## Step 2: Design and Test a Model Architecture\n",
    "\n",
    "Design and implement a deep learning model that learns to recognize traffic signs. Train and test your model on the [German Traffic Sign Dataset](http://benchmark.ini.rub.de/?section=gtsrb&subsection=dataset).\n",
    "\n",
    "The LeNet-5 implementation shown in the [classroom](https://classroom.udacity.com/nanodegrees/nd013/parts/fbf77062-5703-404e-b60c-95b78b2f3f9e/modules/6df7ae49-c61c-4bb2-a23e-6527e69209ec/lessons/601ae704-1035-4287-8b11-e2c2716217ad/concepts/d4aca031-508f-4e0b-b493-e7b706120f81) at the end of the CNN lesson is a solid starting point. You'll have to change the number of classes and possibly the preprocessing, but aside from that it's plug and play! \n",
    "\n",
    "With the LeNet-5 solution from the lecture, you should expect a validation set accuracy of about 0.89. To meet specifications, the validation set accuracy will need to be at least 0.93. It is possible to get an even higher accuracy, but 0.93 is the minimum for a successful project submission. \n",
    "\n",
    "There are various aspects to consider when thinking about this problem:\n",
    "\n",
    "- Neural network architecture (is the network over or underfitting?)\n",
    "- Play around preprocessing techniques (normalization, rgb to grayscale, etc)\n",
    "- Number of examples per label (some have more than others).\n",
    "- Generate fake data.\n",
    "\n",
    "Here is an example of a [published baseline model on this problem](http://yann.lecun.com/exdb/publis/pdf/sermanet-ijcnn-11.pdf). It's not required to be familiar with the approach used in the paper but, it's good practice to try to read papers like these."
   ]
  },
  {
   "cell_type": "markdown",
   "metadata": {},
   "source": [
    "### Pre-process the Data Set (normalization, grayscale, etc.)"
   ]
  },
  {
   "cell_type": "markdown",
   "metadata": {},
   "source": [
    "Minimally, the image data should be normalized so that the data has mean zero and equal variance. For image data, `(pixel - 128)/ 128` is a quick way to approximately normalize the data and can be used in this project. \n",
    "\n",
    "Other pre-processing steps are optional. You can try different techniques to see if it improves performance. \n",
    "\n",
    "Use the code cell (or multiple code cells, if necessary) to implement the first step of your project."
   ]
  },
  {
   "cell_type": "code",
   "execution_count": 11,
   "metadata": {
    "collapsed": false
   },
   "outputs": [],
   "source": [
    "### Preprocess the data here. It is required to normalize the data. Other preprocessing steps could include \n",
    "### converting to grayscale, etc.\n",
    "### Feel free to use as many code cells as needed.\n",
    "'''\n",
    "X_train[0,:,:,0][0]\n",
    "k = [None] * 32\n",
    "for i in range(32):\n",
    "    k[i] = [128] * 32\n",
    "    \n",
    "for i in range(32):\n",
    "    for j in range(32):\n",
    "        k[i][j] = [128] * 3\n",
    "        \n",
    "print(np.array(k).shape)\n",
    "\n",
    "for n in range(np.array(X_train).shape[0]):\n",
    "    X_train[n,...] = X_train[n,...] - k\n",
    "    X_train[n,...] = X_train[n,...] / 128.0\n",
    "'''\n",
    "# normalize the pictures\n",
    "def normal_pics(array):\n",
    "    # return np.divide((array-np.mean(array, axis = 1)[:,None,:]), np.std(array, axis = 1)[:,None,:])\n",
    "    return (array - array.mean()) / array.std()\n",
    "# X_train_gray = (X_train_gray - 128) / 128\n",
    "# X_valid_gray = (X_valid_gray - 128) / 128\n",
    "# X_test_gray = (X_test_gray - 128) / 128\n",
    "normal_pics(X_train_gray)\n",
    "normal_pics(X_valid_gray)\n",
    "normal_pics(X_test_gray)\n",
    "\n",
    "X_train = (X_train - 128) / 128\n",
    "X_valid = (X_train - 128) / 128\n",
    "X_test = (X_test - 128) / 128"
   ]
  },
  {
   "cell_type": "code",
   "execution_count": 12,
   "metadata": {
    "collapsed": false
   },
   "outputs": [
    {
     "data": {
      "text/plain": [
       "(34799, 32)"
      ]
     },
     "execution_count": 12,
     "metadata": {},
     "output_type": "execute_result"
    }
   ],
   "source": [
    "np.mean(X_train_gray, axis = 1).shape"
   ]
  },
  {
   "cell_type": "markdown",
   "metadata": {},
   "source": [
    "### Model Architecture"
   ]
  },
  {
   "cell_type": "code",
   "execution_count": 13,
   "metadata": {
    "collapsed": true
   },
   "outputs": [],
   "source": [
    "### Define your architecture here.\n",
    "### Feel free to use as many code cells as needed.\n",
    "from tensorflow.contrib.layers import flatten\n",
    "import tensorflow as tf\n",
    "channels = 1 # grayscale or not\n",
    "p_keep_1= 1\n",
    "p_keep = 1\n",
    "\n",
    "def LeNet(x):    \n",
    "    # Hyperparameters\n",
    "    mu = 0\n",
    "    sigma = 0.1\n",
    "\n",
    "    # SOLUTION: Layer 1: Convolutional. Input = 32x32x1. Output = 28x28x6.\n",
    "    conv1_W = tf.Variable(tf.truncated_normal(shape=(5, 5, channels, 6), mean = mu, stddev = sigma), name = 'myconv1_W')\n",
    "    conv1_b = tf.Variable(tf.zeros(6), name = 'myconv1_b')\n",
    "    conv1   = tf.nn.conv2d(x, conv1_W, strides=[1, 1, 1, 1], padding='VALID') + conv1_b\n",
    "\n",
    "    # SOLUTION: Activation.\n",
    "    conv1 = tf.nn.relu(conv1, name = 'myconv1')\n",
    "    # dropout\n",
    "    conv1 = tf.nn.dropout(conv1, p_keep_1)\n",
    "    \n",
    "    # SOLUTION: Pooling. Input = 28x28x6. Output = 14x14x6.\n",
    "    conv1 = tf.nn.max_pool(conv1, ksize=[1, 2, 2, 1], strides=[1, 2, 2, 1], padding='VALID',name = 'myconv1_pool')\n",
    "    \n",
    "    \n",
    "    # SOLUTION: Layer 2: Convolutional. Output = 10x10x16.\n",
    "    conv2_W = tf.Variable(tf.truncated_normal(shape=(5, 5, 6, 16), mean = mu, stddev = sigma), name = 'myconv2_W')\n",
    "    conv2_b = tf.Variable(tf.zeros(16), name = 'myconv2_b')\n",
    "    conv2   = tf.nn.conv2d(conv1, conv2_W, strides=[1, 1, 1, 1], padding='VALID') + conv2_b\n",
    "\n",
    "    # SOLUTION: Activation.\n",
    "    conv2 = tf.nn.relu(conv2, name = 'myconv2')\n",
    "\n",
    "    # SOLUTION: Pooling. Input = 10x10x16. Output = 5x5x16.\n",
    "    conv2 = tf.nn.max_pool(conv2, ksize=[1, 2, 2, 1], strides=[1, 2, 2, 1], padding='VALID', name = 'myconv2_pool')\n",
    "   \n",
    "    \n",
    "    # SOLUTION: Flatten. Input = 5x5x16. Output = 400.\n",
    "    fc0   = flatten(conv2)\n",
    "    fc0   = tf.nn.dropout(fc0, p_keep)\n",
    "    \n",
    "    # SOLUTION: Layer 3: Fully Connected. Input = 400. Output = 120.\n",
    "    fc1_W = tf.Variable(tf.truncated_normal(shape=(400, 120), mean = mu, stddev = sigma), name = 'myfc1_W')\n",
    "    fc1_b = tf.Variable(tf.zeros(120), name = 'myfc1_b')\n",
    "    fc1   = tf.matmul(fc0, fc1_W) + fc1_b\n",
    "\n",
    "    # SOLUTION: Activation.\n",
    "    fc1    = tf.nn.relu(fc1, name = 'myfc1')\n",
    "    fc1    = tf.nn.dropout(fc1, p_keep)\n",
    "\n",
    "    # SOLUTION: Layer 4: Fully Connected. Input = 120. Output = 84.\n",
    "    fc2_W  = tf.Variable(tf.truncated_normal(shape=(120, 84), mean = mu, stddev = sigma), name = 'myfc2_W')\n",
    "    fc2_b  = tf.Variable(tf.zeros(84), name = 'myfc2_b')\n",
    "    fc2    = tf.matmul(fc1, fc2_W) + fc2_b\n",
    "\n",
    "    # SOLUTION: Activation.\n",
    "    fc2    = tf.nn.relu(fc2, name = 'myfc2')\n",
    "    fc2    = tf.nn.dropout(fc2, p_keep)\n",
    "    \n",
    "    # SOLUTION: Layer 5: Fully Connected. Input = 84. Output = 10.\n",
    "    fc3_W  = tf.Variable(tf.truncated_normal(shape=(84, 43), mean = mu, stddev = sigma), name = 'myfc3_W')\n",
    "    fc3_b  = tf.Variable(tf.zeros(43), name = 'myfc3_b')\n",
    "    logits = tf.matmul(fc2, fc3_W) + fc3_b\n",
    "    \n",
    "    return logits"
   ]
  },
  {
   "cell_type": "markdown",
   "metadata": {},
   "source": [
    "### Train, Validate and Test the Model"
   ]
  },
  {
   "cell_type": "markdown",
   "metadata": {},
   "source": [
    "A validation set can be used to assess how well the model is performing. A low accuracy on the training and validation\n",
    "sets imply underfitting. A high accuracy on the training set but low accuracy on the validation set implies overfitting."
   ]
  },
  {
   "cell_type": "code",
   "execution_count": 14,
   "metadata": {
    "collapsed": false
   },
   "outputs": [],
   "source": [
    "### Train your model here.\n",
    "### Calculate and report the accuracy on the training and validation set.\n",
    "### Once a final model architecture is selected, \n",
    "### the accuracy on the test set should be calculated and reported as well.\n",
    "### Feel free to use as many code cells as needed.\n",
    "x = tf.placeholder(tf.float32, (None, 32, 32, channels), name = 'x')\n",
    "y = tf.placeholder(tf.int32, (None), name = 'y')\n",
    "one_hot_y = tf.one_hot(y, 43)"
   ]
  },
  {
   "cell_type": "code",
   "execution_count": 15,
   "metadata": {
    "collapsed": false
   },
   "outputs": [],
   "source": [
    "rate = 0.001\n",
    "EPOCHS = 100\n",
    "BATCH_SIZE = 128"
   ]
  },
  {
   "cell_type": "code",
   "execution_count": 16,
   "metadata": {
    "collapsed": false
   },
   "outputs": [],
   "source": [
    "logits = LeNet(x)\n",
    "cross_entropy = tf.nn.softmax_cross_entropy_with_logits(labels=one_hot_y, logits=logits)\n",
    "loss_operation = tf.reduce_mean(cross_entropy)\n",
    "optimizer = tf.train.AdamOptimizer(learning_rate = rate)\n",
    "training_operation = optimizer.minimize(loss_operation)"
   ]
  },
  {
   "cell_type": "code",
   "execution_count": 17,
   "metadata": {
    "collapsed": false
   },
   "outputs": [],
   "source": [
    "correct_prediction = tf.equal(tf.argmax(logits, 1), tf.argmax(one_hot_y, 1))\n",
    "accuracy_operation = tf.reduce_mean(tf.cast(correct_prediction, tf.float32))\n",
    "saver = tf.train.Saver()\n",
    "\n",
    "def evaluate(X_data, y_data):\n",
    "    num_examples = len(X_data)\n",
    "    total_accuracy = 0\n",
    "    sess = tf.get_default_session()\n",
    "    for offset in range(0, num_examples, BATCH_SIZE):\n",
    "        batch_x, batch_y = X_data[offset:offset+BATCH_SIZE], y_data[offset:offset+BATCH_SIZE]\n",
    "        accuracy = sess.run(accuracy_operation, feed_dict={x: batch_x, y: batch_y})\n",
    "        total_accuracy += (accuracy * len(batch_x))\n",
    "    return total_accuracy / num_examples"
   ]
  },
  {
   "cell_type": "markdown",
   "metadata": {
    "collapsed": false
   },
   "source": [
    "Convert the pictures to grayscale if they are not. Assign the train, valid and test set to the grayscale ones."
   ]
  },
  {
   "cell_type": "code",
   "execution_count": 18,
   "metadata": {
    "collapsed": false
   },
   "outputs": [],
   "source": [
    "if X_train_gray.ndim == 3:\n",
    "    X_train_gray = X_train_gray[...,None]\n",
    "if X_valid_gray.ndim == 3:\n",
    "    X_valid_gray = X_valid_gray[...,None]\n",
    "if X_test_gray.ndim == 3:\n",
    "    X_test_gray = X_test_gray[...,None]\n",
    "\n",
    "X_train_0 = X_train\n",
    "\n",
    "if channels == 1:\n",
    "    X_train = X_train_gray\n",
    "    X_valid = X_valid_gray\n",
    "    X_test = X_test_gray "
   ]
  },
  {
   "cell_type": "code",
   "execution_count": 19,
   "metadata": {
    "collapsed": false
   },
   "outputs": [
    {
     "name": "stdout",
     "output_type": "stream",
     "text": [
      "shape of pictures after grayscaling is (32, 32, 1)\n"
     ]
    }
   ],
   "source": [
    "print('shape of pictures after grayscaling is {}'.format(X_train_gray[0].shape))"
   ]
  },
  {
   "cell_type": "markdown",
   "metadata": {},
   "source": [
    "Backup the model."
   ]
  },
  {
   "cell_type": "code",
   "execution_count": 20,
   "metadata": {
    "collapsed": false
   },
   "outputs": [],
   "source": [
    "lenetfiles = glob.glob('lenet.*')\n",
    "\n",
    "backup_model = False\n",
    "if not backup_model:\n",
    "    #for file in lenetfiles:\n",
    "    #    os.rename(file, 'backup-'+file)\n",
    "    for file in lenetfiles:\n",
    "        os.remove(file)"
   ]
  },
  {
   "cell_type": "markdown",
   "metadata": {},
   "source": [
    "Train the model if there isn't a trained model."
   ]
  },
  {
   "cell_type": "code",
   "execution_count": 21,
   "metadata": {
    "collapsed": false
   },
   "outputs": [
    {
     "name": "stdout",
     "output_type": "stream",
     "text": [
      "Training...\n",
      "\n",
      "EPOCH 1 ...\n",
      "Validation Accuracy = 0.760\n",
      "\n",
      "EPOCH 2 ...\n",
      "Validation Accuracy = 0.831\n",
      "\n",
      "EPOCH 3 ...\n",
      "Validation Accuracy = 0.860\n",
      "\n",
      "EPOCH 4 ...\n",
      "Validation Accuracy = 0.884\n",
      "\n",
      "EPOCH 5 ...\n",
      "Validation Accuracy = 0.879\n",
      "\n",
      "EPOCH 6 ...\n",
      "Validation Accuracy = 0.895\n",
      "\n",
      "EPOCH 7 ...\n",
      "Validation Accuracy = 0.889\n",
      "\n",
      "EPOCH 8 ...\n",
      "Validation Accuracy = 0.890\n",
      "\n",
      "EPOCH 9 ...\n",
      "Validation Accuracy = 0.897\n",
      "\n",
      "EPOCH 10 ...\n",
      "Validation Accuracy = 0.872\n",
      "\n",
      "EPOCH 11 ...\n",
      "Validation Accuracy = 0.904\n",
      "\n",
      "EPOCH 12 ...\n",
      "Validation Accuracy = 0.897\n",
      "\n",
      "EPOCH 13 ...\n",
      "Validation Accuracy = 0.905\n",
      "\n",
      "EPOCH 14 ...\n",
      "Validation Accuracy = 0.916\n",
      "\n",
      "EPOCH 15 ...\n",
      "Validation Accuracy = 0.901\n",
      "\n",
      "EPOCH 16 ...\n",
      "Validation Accuracy = 0.899\n",
      "\n",
      "EPOCH 17 ...\n",
      "Validation Accuracy = 0.912\n",
      "\n",
      "EPOCH 18 ...\n",
      "Validation Accuracy = 0.903\n",
      "\n",
      "EPOCH 19 ...\n",
      "Validation Accuracy = 0.902\n",
      "\n",
      "EPOCH 20 ...\n",
      "Validation Accuracy = 0.906\n",
      "\n",
      "EPOCH 21 ...\n",
      "Validation Accuracy = 0.917\n",
      "\n",
      "EPOCH 22 ...\n",
      "Validation Accuracy = 0.910\n",
      "\n",
      "EPOCH 23 ...\n",
      "Validation Accuracy = 0.902\n",
      "\n",
      "EPOCH 24 ...\n",
      "Validation Accuracy = 0.926\n",
      "\n",
      "EPOCH 25 ...\n",
      "Validation Accuracy = 0.921\n",
      "\n",
      "EPOCH 26 ...\n",
      "Validation Accuracy = 0.907\n",
      "\n",
      "EPOCH 27 ...\n",
      "Validation Accuracy = 0.900\n",
      "\n",
      "EPOCH 28 ...\n",
      "Validation Accuracy = 0.918\n",
      "\n",
      "EPOCH 29 ...\n",
      "Validation Accuracy = 0.922\n",
      "\n",
      "EPOCH 30 ...\n",
      "Validation Accuracy = 0.912\n",
      "\n",
      "EPOCH 31 ...\n",
      "Validation Accuracy = 0.924\n",
      "\n",
      "EPOCH 32 ...\n",
      "Validation Accuracy = 0.932\n",
      "\n",
      "EPOCH 33 ...\n",
      "Validation Accuracy = 0.921\n",
      "\n",
      "EPOCH 34 ...\n",
      "Validation Accuracy = 0.931\n",
      "\n",
      "EPOCH 35 ...\n",
      "Validation Accuracy = 0.935\n",
      "\n",
      "EPOCH 36 ...\n",
      "Validation Accuracy = 0.921\n",
      "\n",
      "EPOCH 37 ...\n",
      "Validation Accuracy = 0.920\n",
      "\n",
      "EPOCH 38 ...\n",
      "Validation Accuracy = 0.923\n",
      "\n",
      "EPOCH 39 ...\n",
      "Validation Accuracy = 0.941\n",
      "\n",
      "EPOCH 40 ...\n",
      "Validation Accuracy = 0.941\n",
      "\n",
      "EPOCH 41 ...\n",
      "Validation Accuracy = 0.920\n",
      "\n",
      "EPOCH 42 ...\n",
      "Validation Accuracy = 0.913\n",
      "\n",
      "EPOCH 43 ...\n",
      "Validation Accuracy = 0.896\n",
      "\n",
      "EPOCH 44 ...\n",
      "Validation Accuracy = 0.938\n",
      "\n",
      "EPOCH 45 ...\n",
      "Validation Accuracy = 0.937\n",
      "\n",
      "EPOCH 46 ...\n",
      "Validation Accuracy = 0.934\n",
      "\n",
      "EPOCH 47 ...\n",
      "Validation Accuracy = 0.911\n",
      "\n",
      "EPOCH 48 ...\n",
      "Validation Accuracy = 0.933\n",
      "\n",
      "EPOCH 49 ...\n",
      "Validation Accuracy = 0.932\n",
      "\n",
      "EPOCH 50 ...\n",
      "Validation Accuracy = 0.910\n",
      "\n",
      "EPOCH 51 ...\n",
      "Validation Accuracy = 0.936\n",
      "\n",
      "EPOCH 52 ...\n",
      "Validation Accuracy = 0.928\n",
      "\n",
      "EPOCH 53 ...\n",
      "Validation Accuracy = 0.922\n",
      "\n",
      "EPOCH 54 ...\n",
      "Validation Accuracy = 0.936\n",
      "\n",
      "EPOCH 55 ...\n",
      "Validation Accuracy = 0.935\n",
      "\n",
      "EPOCH 56 ...\n",
      "Validation Accuracy = 0.931\n",
      "\n",
      "EPOCH 57 ...\n",
      "Validation Accuracy = 0.929\n",
      "\n",
      "EPOCH 58 ...\n",
      "Validation Accuracy = 0.938\n",
      "\n",
      "EPOCH 59 ...\n",
      "Validation Accuracy = 0.943\n",
      "\n",
      "EPOCH 60 ...\n",
      "Validation Accuracy = 0.937\n",
      "\n",
      "EPOCH 61 ...\n",
      "Validation Accuracy = 0.939\n",
      "\n",
      "EPOCH 62 ...\n",
      "Validation Accuracy = 0.947\n",
      "\n",
      "EPOCH 63 ...\n",
      "Validation Accuracy = 0.942\n",
      "\n",
      "EPOCH 64 ...\n",
      "Validation Accuracy = 0.929\n",
      "\n",
      "EPOCH 65 ...\n",
      "Validation Accuracy = 0.944\n",
      "\n",
      "EPOCH 66 ...\n",
      "Validation Accuracy = 0.941\n",
      "\n",
      "EPOCH 67 ...\n",
      "Validation Accuracy = 0.929\n",
      "\n",
      "EPOCH 68 ...\n",
      "Validation Accuracy = 0.936\n",
      "\n",
      "EPOCH 69 ...\n",
      "Validation Accuracy = 0.936\n",
      "\n",
      "EPOCH 70 ...\n",
      "Validation Accuracy = 0.937\n",
      "\n",
      "EPOCH 71 ...\n",
      "Validation Accuracy = 0.939\n",
      "\n",
      "EPOCH 72 ...\n",
      "Validation Accuracy = 0.940\n",
      "\n",
      "EPOCH 73 ...\n",
      "Validation Accuracy = 0.941\n",
      "\n",
      "EPOCH 74 ...\n",
      "Validation Accuracy = 0.941\n",
      "\n",
      "EPOCH 75 ...\n",
      "Validation Accuracy = 0.940\n",
      "\n",
      "EPOCH 76 ...\n",
      "Validation Accuracy = 0.940\n",
      "\n",
      "EPOCH 77 ...\n",
      "Validation Accuracy = 0.940\n",
      "\n",
      "EPOCH 78 ...\n",
      "Validation Accuracy = 0.940\n",
      "\n",
      "EPOCH 79 ...\n",
      "Validation Accuracy = 0.940\n",
      "\n",
      "EPOCH 80 ...\n",
      "Validation Accuracy = 0.940\n",
      "\n",
      "EPOCH 81 ...\n",
      "Validation Accuracy = 0.941\n",
      "\n",
      "EPOCH 82 ...\n",
      "Validation Accuracy = 0.941\n",
      "\n",
      "EPOCH 83 ...\n",
      "Validation Accuracy = 0.941\n",
      "\n",
      "EPOCH 84 ...\n",
      "Validation Accuracy = 0.940\n",
      "\n",
      "EPOCH 85 ...\n",
      "Validation Accuracy = 0.941\n",
      "\n",
      "EPOCH 86 ...\n",
      "Validation Accuracy = 0.941\n",
      "\n",
      "EPOCH 87 ...\n",
      "Validation Accuracy = 0.941\n",
      "\n",
      "EPOCH 88 ...\n",
      "Validation Accuracy = 0.941\n",
      "\n",
      "EPOCH 89 ...\n",
      "Validation Accuracy = 0.941\n",
      "\n",
      "EPOCH 90 ...\n",
      "Validation Accuracy = 0.941\n",
      "\n",
      "EPOCH 91 ...\n",
      "Validation Accuracy = 0.941\n",
      "\n",
      "EPOCH 92 ...\n",
      "Validation Accuracy = 0.940\n",
      "\n",
      "EPOCH 93 ...\n",
      "Validation Accuracy = 0.941\n",
      "\n",
      "EPOCH 94 ...\n",
      "Validation Accuracy = 0.941\n",
      "\n",
      "EPOCH 95 ...\n",
      "Validation Accuracy = 0.941\n",
      "\n",
      "EPOCH 96 ...\n",
      "Validation Accuracy = 0.941\n",
      "\n",
      "EPOCH 97 ...\n",
      "Validation Accuracy = 0.942\n",
      "\n",
      "EPOCH 98 ...\n",
      "Validation Accuracy = 0.941\n",
      "\n",
      "EPOCH 99 ...\n",
      "Validation Accuracy = 0.941\n",
      "\n",
      "EPOCH 100 ...\n",
      "Validation Accuracy = 0.941\n",
      "\n",
      "Model saved\n"
     ]
    }
   ],
   "source": [
    "if not glob.glob('/home/carnd/traffic-signs/lenet.*'):\n",
    "    from sklearn.utils import shuffle\n",
    "    with tf.Session() as sess:\n",
    "        sess.run(tf.global_variables_initializer())\n",
    "        num_examples = len(X_train)\n",
    "\n",
    "        print(\"Training...\")\n",
    "        print()\n",
    "        for i in range(EPOCHS):\n",
    "            X_train, y_train = shuffle(X_train, y_train)\n",
    "            for offset in range(0, num_examples, BATCH_SIZE):\n",
    "                end = offset + BATCH_SIZE\n",
    "                batch_x, batch_y = X_train[offset:end], y_train[offset:end]\n",
    "                sess.run(training_operation, feed_dict={x: batch_x, y: batch_y})\n",
    "\n",
    "            validation_accuracy = evaluate(X_valid, y_valid)\n",
    "            print(\"EPOCH {} ...\".format(i+1))\n",
    "            print(\"Validation Accuracy = {:.3f}\".format(validation_accuracy))\n",
    "            print()\n",
    "\n",
    "        saver.save(sess, '/home/carnd/traffic-signs/lenet')\n",
    "        print(\"Model saved\")"
   ]
  },
  {
   "cell_type": "markdown",
   "metadata": {},
   "source": [
    "---\n",
    "\n",
    "## Step 3: Test a Model on New Images\n",
    "\n",
    "To give yourself more insight into how your model is working, download at least five pictures of German traffic signs from the web and use your model to predict the traffic sign type.\n",
    "\n",
    "You may find `signnames.csv` useful as it contains mappings from the class id (integer) to the actual sign name."
   ]
  },
  {
   "cell_type": "code",
   "execution_count": 22,
   "metadata": {
    "collapsed": false
   },
   "outputs": [
    {
     "name": "stdout",
     "output_type": "stream",
     "text": [
      "<tensorflow.python.client.session.Session object at 0x7f060e4f0f28>\n",
      "Test Accuracy = 0.927\n"
     ]
    }
   ],
   "source": [
    "# os.chdir('/home/carnd/traffic-signs')\n",
    "import tensorflow as tf\n",
    "with tf.Session() as sess:\n",
    "    # saver.restore(sess, tf.train.latest_checkpoint('.'))\n",
    "    saver.restore(sess, '/home/carnd/traffic-signs/lenet')\n",
    "    test_accuracy = evaluate(X_test, y_test)\n",
    "    print(sess)\n",
    "    print(\"Test Accuracy = {:.3f}\".format(test_accuracy))"
   ]
  },
  {
   "cell_type": "markdown",
   "metadata": {},
   "source": [
    "### Load and Output the Images"
   ]
  },
  {
   "cell_type": "code",
   "execution_count": 23,
   "metadata": {
    "collapsed": false
   },
   "outputs": [],
   "source": [
    "### Load the images and plot them here.\n",
    "### Feel free to use as many code cells as needed.\n",
    "import urllib.request as ulr\n",
    "import zipfile\n",
    "import os,glob\n",
    "if not glob.glob('GTSRB_Images.zip'):\n",
    "    X_train_0, header = ulr.urlretrieve('http://benchmark.ini.rub.de/Dataset/GTSRB_Final_Test_Images.zip','GTSRB_Images.zip')\n",
    "    X_zip = zipfile.ZipFile(X_train_0, 'r')\n",
    "    X_zip.extractall()\n",
    "    X_zip.close()"
   ]
  },
  {
   "cell_type": "markdown",
   "metadata": {},
   "source": [
    "Change folder to the test pictures' folder. Print names of first 10 pictures."
   ]
  },
  {
   "cell_type": "code",
   "execution_count": 24,
   "metadata": {
    "collapsed": false
   },
   "outputs": [
    {
     "name": "stdout",
     "output_type": "stream",
     "text": [
      "['04241.ppm', '11105.ppm', '01024.ppm', '03765.ppm', '11760.ppm', '05918.ppm', '12213.ppm', '00080.ppm', '06801.ppm', '04256.ppm']\n"
     ]
    }
   ],
   "source": [
    "if os.getcwd() != '/home/carnd/traffic-signs/GTSRB/Final_Test/Images/':\n",
    "    os.chdir('/home/carnd/traffic-signs/GTSRB/Final_Test/Images/')\n",
    "    print(os.listdir('.')[:10])"
   ]
  },
  {
   "cell_type": "code",
   "execution_count": 25,
   "metadata": {
    "collapsed": false
   },
   "outputs": [
    {
     "data": {
      "image/png": "[encoded data removed]",
      "text/plain": [
       "<matplotlib.figure.Figure at 0x7f060e4f50f0>"
      ]
     },
     "metadata": {},
     "output_type": "display_data"
    }
   ],
   "source": [
    "imglist = np.array(os.listdir('.')) # store names of all the images in a list\n",
    "np.random.shuffle(imglist) # random shuffle the list of names\n",
    "fig, ax = plt.subplots(1,5,figsize=((8,8))) # create 5 subplots for plotting the pics\n",
    "ind = 0\n",
    "index = 5\n",
    "imlist = [] # list of the 5 pictures for the model to test on.\n",
    "while index > 0:\n",
    "    img = plt.imread(imglist[ind])\n",
    "    if 30 < img.shape[0] < 35 and 30 < img.shape[1] <35: # choose the pics which have similar shape with (32,32)\n",
    "        index -= 1\n",
    "        imlist.append(imglist[ind])\n",
    "        ax[index].imshow(img)\n",
    "    ind += 1"
   ]
  },
  {
   "cell_type": "code",
   "execution_count": 26,
   "metadata": {
    "collapsed": false
   },
   "outputs": [
    {
     "name": "stdout",
     "output_type": "stream",
     "text": [
      "(33, 33, 3)\n",
      "(34, 34, 3)\n",
      "(34, 34, 3)\n",
      "(33, 34, 3)\n",
      "(33, 34, 3)\n"
     ]
    }
   ],
   "source": [
    "for ind in range(5):\n",
    "    print(plt.imread(imlist[ind]).shape) # print the shape of the 5 pics"
   ]
  },
  {
   "cell_type": "markdown",
   "metadata": {},
   "source": [
    "Convert the 5 pics' shape to (32,32)"
   ]
  },
  {
   "cell_type": "code",
   "execution_count": 27,
   "metadata": {
    "collapsed": true
   },
   "outputs": [],
   "source": [
    "def pixel32(fig,imgarray):\n",
    "    if (fig.shape[0] >= 32 and fig.shape[1] >= 32): # width and height bigger than 32 pixels\n",
    "        left = max(int(fig.shape[0]/2) - 16,0)\n",
    "        right = left + 32\n",
    "        down = max(int(fig.shape[1]/2) - 16,0)\n",
    "        up = down + 32\n",
    "        imgarray = np.append(imgarray, (fig[left:right,down:up,:])[None,...], axis = 0)\n",
    "    elif (fig.shape[0] < 32 and fig.shape[1] >= 32): # width bigger than 32, height less than 32\n",
    "        fig = np.append(fig, np.zeros((32 - fig.shape[0], fig.shape[1], 3)), axis = 0)\n",
    "        down = max(int(fig.shape[1]/2) - 16,0)\n",
    "        up = down + 32\n",
    "        fig = fig[:,down:up,:]\n",
    "        imgarray = np.append(imgarray, fig[None,...], axis = 0)\n",
    "    elif (fig.shape[0] >= 32 and fig.shape[1] < 32): # width bigger than 32, height less than 32\n",
    "        fig = np.append(fig, np.zeros((fig.shape[0], 32 - fig.shape[1], 3)), axis = 1)\n",
    "        left = max(int(fig.shape[0]/2) - 16,0)\n",
    "        right = left + 32\n",
    "        fig = fig[left:right,...]\n",
    "        imgarray = np.append(imgarray, fig[None,...], axis = 0)\n",
    "    else: # width and height are less than 32\n",
    "        shape0 = fig.shape[0]\n",
    "        fig = np.append(fig, np.zeros((32 - fig.shape[0], fig.shape[1], 3)), axis = 0)\n",
    "        fig = np.append(fig, np.zeros((fig.shape[0], 32 - shape0, 3)), axis = 1)\n",
    "        imgarray = np.append(imgarray, fig[None,...], axis = 0)\n",
    "    return imgarray"
   ]
  },
  {
   "cell_type": "code",
   "execution_count": 28,
   "metadata": {
    "collapsed": false
   },
   "outputs": [],
   "source": [
    "imgarr = np.zeros((1,32,32,3)) # ndarray for 5 pics\n",
    "for ind in range(5):\n",
    "    imgarr = pixel32(plt.imread(imlist[ind]),imgarr) # convert the images and add to the ndarray"
   ]
  },
  {
   "cell_type": "code",
   "execution_count": 29,
   "metadata": {
    "collapsed": false
   },
   "outputs": [
    {
     "name": "stdout",
     "output_type": "stream",
     "text": [
      "shape of pictures after grayscaling is (32, 32, 1)\n"
     ]
    }
   ],
   "source": [
    "imgarr_gray = np.dot(imgarr[...,:],np.array([0.299, 0.587, 0.114])) # grayscale\n",
    "imgarr_gray = (imgarr_gray - 128) / 128 # normalization\n",
    "if imgarr_gray.ndim ==3:\n",
    "    imgarr_gray = imgarr_gray[...,None] # add a dimension\n",
    "print('shape of pictures after grayscaling is {}'.format(imgarr_gray[1].shape))"
   ]
  },
  {
   "cell_type": "code",
   "execution_count": 30,
   "metadata": {
    "collapsed": false
   },
   "outputs": [
    {
     "data": {
      "image/png": "[encoded data removed]",
      "text/plain": [
       "<matplotlib.figure.Figure at 0x7f0677ec24a8>"
      ]
     },
     "metadata": {},
     "output_type": "display_data"
    }
   ],
   "source": [
    "fig, ax = plt.subplots(1,5,figsize=((8,8))) # plot the grayscaled pics\n",
    "for ind in range(5):\n",
    "    ax[ind].imshow(imgarr_gray[ind+1].squeeze(), cmap = 'gray')"
   ]
  },
  {
   "cell_type": "markdown",
   "metadata": {},
   "source": [
    "### Predict the Sign Type for Each Image"
   ]
  },
  {
   "cell_type": "code",
   "execution_count": 31,
   "metadata": {
    "collapsed": false
   },
   "outputs": [
    {
     "name": "stdout",
     "output_type": "stream",
     "text": [
      "/home/carnd/traffic-signs/GTSRB/Final_Test/Images\n"
     ]
    }
   ],
   "source": [
    "# os.chdir('/home/carnd/traffic-signs')\n",
    "print(os.getcwd()) # remind to change the folder\n",
    "y1 = tf.placeholder(tf.int32, (None))\n",
    "with tf.Session() as sess:\n",
    "    sess.run(tf.global_variables_initializer())\n",
    "    # saver.restore(sess, tf.train.latest_checkpoint('.'))\n",
    "    saver = tf.train.import_meta_graph('/home/carnd/traffic-signs/lenet.meta')\n",
    "    saver.restore(sess, '/home/carnd/traffic-signs/lenet') # restore the model, remind to change the folder\n",
    "    y1 = sess.run(tf.nn.softmax(logits), feed_dict = {x: imgarr_gray[1:]}) # classify the 5 pics\n",
    "    # accuracy = sess.run(accuracy_operation, feed_dict={x: batch_x, y: batch_y})"
   ]
  },
  {
   "cell_type": "code",
   "execution_count": 32,
   "metadata": {
    "collapsed": false
   },
   "outputs": [
    {
     "name": "stdout",
     "output_type": "stream",
     "text": [
      "[14  5  5  5  8]\n"
     ]
    }
   ],
   "source": [
    "final_predict = np.argmax(y1,1) # class of the 5 pics\n",
    "print(np.argmax(y1,1))"
   ]
  },
  {
   "cell_type": "markdown",
   "metadata": {},
   "source": [
    "### Analyze Performance"
   ]
  },
  {
   "cell_type": "code",
   "execution_count": 33,
   "metadata": {
    "collapsed": true
   },
   "outputs": [],
   "source": [
    "### Calculate the accuracy for these 5 new images. \n",
    "### For example, if the model predicted 1 out of 5 signs correctly, it's 20% accurate on these new images."
   ]
  },
  {
   "cell_type": "code",
   "execution_count": 34,
   "metadata": {
    "collapsed": false
   },
   "outputs": [],
   "source": [
    "os.chdir('/home/carnd/traffic-signs/GTSRB') # remember to change the folder\n",
    "if not glob.glob('GTSRB_Final_Test_GT.zip'): # download the test images if there aren't\n",
    "    f, header = ulr.urlretrieve('http://benchmark.ini.rub.de/Dataset/GTSRB_Final_Test_GT.zip', 'GTSRB_Final_Test_GT.zip')\n",
    "    with zipfile.ZipFile(f,'r') as fcsv: # unzip the zip file\n",
    "        fcsv.extractall()"
   ]
  },
  {
   "cell_type": "code",
   "execution_count": 35,
   "metadata": {
    "collapsed": false
   },
   "outputs": [
    {
     "name": "stdout",
     "output_type": "stream",
     "text": [
      "['09293.ppm', '10491.ppm', '06486.ppm', '08885.ppm', '09851.ppm']\n"
     ]
    }
   ],
   "source": [
    "print(imlist) # names of the 5 pics\n",
    "final_labels = [] # information of the test pics\n",
    "with open('GT-final_test.csv','rb') as f:\n",
    "    for row in f:\n",
    "        final_labels.append(row.decode('utf-8'))"
   ]
  },
  {
   "cell_type": "code",
   "execution_count": 36,
   "metadata": {
    "collapsed": false
   },
   "outputs": [
    {
     "name": "stdout",
     "output_type": "stream",
     "text": [
      "{'06486.ppm': 5, '10491.ppm': 5, '09851.ppm': 8, '08885.ppm': 5, '09293.ppm': 14}\n"
     ]
    }
   ],
   "source": [
    "model_predict = dict(zip(imlist,final_predict)) # dict of the pic names and the prediction of the model\n",
    "print(model_predict)"
   ]
  },
  {
   "cell_type": "code",
   "execution_count": 37,
   "metadata": {
    "collapsed": false
   },
   "outputs": [
    {
     "name": "stdout",
     "output_type": "stream",
     "text": [
      "[\"06486.ppm's label is 9\", \"08885.ppm's label is 2\", \"09293.ppm's label is 13\", \"09851.ppm's label is 8\", \"10491.ppm's label is 12\"]\n",
      "{'06486.ppm': '9', '09851.ppm': '8', '10491.ppm': '12', '08885.ppm': '2', '09293.ppm': '13'}\n"
     ]
    }
   ],
   "source": [
    "final_test_labels = [] # true labels of pics and their names\n",
    "pic_name = [] \n",
    "pic_label = []\n",
    "true_label = {} # previous attached labels\n",
    "ind = 1\n",
    "while len(final_test_labels) < 5:\n",
    "    if final_labels[ind].split(';')[0] in imlist:\n",
    "        final_test_labels.append(final_labels[ind].split(';')[0] + '\\'s label is ' + final_labels[ind].split(';')[7].rstrip())\n",
    "        pic_name.append(final_labels[ind].split(';')[0])\n",
    "        pic_label.append(final_labels[ind].split(';')[7].rstrip())\n",
    "    ind += 1\n",
    "true_label = dict(zip(pic_name,pic_label))\n",
    "print(final_test_labels)\n",
    "print(true_label)"
   ]
  },
  {
   "cell_type": "code",
   "execution_count": 38,
   "metadata": {
    "collapsed": false
   },
   "outputs": [
    {
     "name": "stdout",
     "output_type": "stream",
     "text": [
      "Model rediction's accuracy on new images is 20.0%\n"
     ]
    }
   ],
   "source": [
    "accuracy = 0\n",
    "for key in model_predict.keys():\n",
    "    value = model_predict[key]\n",
    "    if int(true_label[key]) == int(value):\n",
    "        accuracy += 1\n",
    "accuracy = accuracy / 5 * 100\n",
    "print('Model rediction\\'s accuracy on new images is ' + str(accuracy) + '%')"
   ]
  },
  {
   "cell_type": "markdown",
   "metadata": {},
   "source": [
    "### Output Top 5 Softmax Probabilities For Each Image Found on the Web"
   ]
  },
  {
   "cell_type": "markdown",
   "metadata": {},
   "source": [
    "For each of the new images, print out the model's softmax probabilities to show the **certainty** of the model's predictions (limit the output to the top 5 probabilities for each image). [`tf.nn.top_k`](https://www.tensorflow.org/versions/r0.12/api_docs/python/nn.html#top_k) could prove helpful here. \n",
    "\n",
    "The example below demonstrates how tf.nn.top_k can be used to find the top k predictions for each image.\n",
    "\n",
    "`tf.nn.top_k` will return the values and indices (class ids) of the top k predictions. So if k=3, for each sign, it'll return the 3 largest probabilities (out of a possible 43) and the correspoding class ids.\n",
    "\n",
    "Take this numpy array as an example. The values in the array represent predictions. The array contains softmax probabilities for five candidate images with six possible classes. `tk.nn.top_k` is used to choose the three classes with the highest probability:\n",
    "\n",
    "```\n",
    "# (5, 6) array\n",
    "a = np.array([[ 0.24879643,  0.07032244,  0.12641572,  0.34763842,  0.07893497,\n",
    "         0.12789202],\n",
    "       [ 0.28086119,  0.27569815,  0.08594638,  0.0178669 ,  0.18063401,\n",
    "         0.15899337],\n",
    "       [ 0.26076848,  0.23664738,  0.08020603,  0.07001922,  0.1134371 ,\n",
    "         0.23892179],\n",
    "       [ 0.11943333,  0.29198961,  0.02605103,  0.26234032,  0.1351348 ,\n",
    "         0.16505091],\n",
    "       [ 0.09561176,  0.34396535,  0.0643941 ,  0.16240774,  0.24206137,\n",
    "         0.09155967]])\n",
    "```\n",
    "\n",
    "Running it through `sess.run(tf.nn.top_k(tf.constant(a), k=3))` produces:\n",
    "\n",
    "```\n",
    "TopKV2(values=array([[ 0.34763842,  0.24879643,  0.12789202],\n",
    "       [ 0.28086119,  0.27569815,  0.18063401],\n",
    "       [ 0.26076848,  0.23892179,  0.23664738],\n",
    "       [ 0.29198961,  0.26234032,  0.16505091],\n",
    "       [ 0.34396535,  0.24206137,  0.16240774]]), indices=array([[3, 0, 5],\n",
    "       [0, 1, 4],\n",
    "       [0, 5, 1],\n",
    "       [1, 3, 5],\n",
    "       [1, 4, 3]], dtype=int32))\n",
    "```\n",
    "\n",
    "Looking just at the first row we get `[ 0.34763842,  0.24879643,  0.12789202]`, you can confirm these are the 3 largest probabilities in `a`. You'll also notice `[3, 0, 5]` are the corresponding indices."
   ]
  },
  {
   "cell_type": "code",
   "execution_count": 39,
   "metadata": {
    "collapsed": false,
    "scrolled": true
   },
   "outputs": [
    {
     "name": "stdout",
     "output_type": "stream",
     "text": [
      "TopKV2(values=array([[ 0.17233066,  0.15088357,  0.10982797,  0.09715038,  0.06172418],\n",
      "       [ 0.24142274,  0.08933433,  0.07237673,  0.06902362,  0.06553914],\n",
      "       [ 0.19049199,  0.14866857,  0.13744642,  0.08156575,  0.08105928],\n",
      "       [ 0.17555608,  0.11052885,  0.08711796,  0.07846545,  0.0731376 ],\n",
      "       [ 0.26398575,  0.14630148,  0.11569716,  0.06801105,  0.0670388 ]], dtype=float32), indices=array([[14, 12,  3,  8,  5],\n",
      "       [ 5,  8,  3,  7, 12],\n",
      "       [ 5,  7,  9, 10, 12],\n",
      "       [ 5,  8,  7,  3, 12],\n",
      "       [ 8,  5,  7, 15,  3]], dtype=int32))\n"
     ]
    }
   ],
   "source": [
    "### Print out the top five softmax probabilities for the predictions on the German traffic sign images found on the web. \n",
    "### Feel free to use as many code cells as needed.\n",
    "with tf.Session() as sess:\n",
    "    saver.restore(sess,  '/home/carnd/traffic-signs/lenet')\n",
    "    top_5 = sess.run(tf.nn.top_k(tf.constant(y1), k = 5))\n",
    "    \n",
    "print(top_5)"
   ]
  },
  {
   "cell_type": "markdown",
   "metadata": {},
   "source": [
    "### Project Writeup\n",
    "\n",
    "Once you have completed the code implementation, document your results in a project writeup using this [template](https://github.com/udacity/CarND-Traffic-Sign-Classifier-Project/blob/master/writeup_template.md) as a guide. The writeup can be in a markdown or pdf file. "
   ]
  },
  {
   "cell_type": "markdown",
   "metadata": {},
   "source": [
    "> **Note**: Once you have completed all of the code implementations and successfully answered each question above, you may finalize your work by exporting the iPython Notebook as an HTML document. You can do this by using the menu above and navigating to  \\n\",\n",
    "    \"**File -> Download as -> HTML (.html)**. Include the finished document along with this notebook as your submission."
   ]
  },
  {
   "cell_type": "markdown",
   "metadata": {},
   "source": [
    "---\n",
    "\n",
    "## Step 4 (Optional): Visualize the Neural Network's State with Test Images\n",
    "\n",
    " This Section is not required to complete but acts as an additional excersise for understaning the output of a neural network's weights. While neural networks can be a great learning device they are often referred to as a black box. We can understand what the weights of a neural network look like better by plotting their feature maps. After successfully training your neural network you can see what it's feature maps look like by plotting the output of the network's weight layers in response to a test stimuli image. From these plotted feature maps, it's possible to see what characteristics of an image the network finds interesting. For a sign, maybe the inner network feature maps react with high activation to the sign's boundary outline or to the contrast in the sign's painted symbol.\n",
    "\n",
    " Provided for you below is the function code that allows you to get the visualization output of any tensorflow weight layer you want. The inputs to the function should be a stimuli image, one used during training or a new one you provided, and then the tensorflow variable name that represents the layer's state during the training process, for instance if you wanted to see what the [LeNet lab's](https://classroom.udacity.com/nanodegrees/nd013/parts/fbf77062-5703-404e-b60c-95b78b2f3f9e/modules/6df7ae49-c61c-4bb2-a23e-6527e69209ec/lessons/601ae704-1035-4287-8b11-e2c2716217ad/concepts/d4aca031-508f-4e0b-b493-e7b706120f81) feature maps looked like for it's second convolutional layer you could enter conv2 as the tf_activation variable.\n",
    "\n",
    "For an example of what feature map outputs look like, check out NVIDIA's results in their paper [End-to-End Deep Learning for Self-Driving Cars](https://devblogs.nvidia.com/parallelforall/deep-learning-self-driving-cars/) in the section Visualization of internal CNN State. NVIDIA was able to show that their network's inner weights had high activations to road boundary lines by comparing feature maps from an image with a clear path to one without. Try experimenting with a similar test to show that your trained network's weights are looking for interesting features, whether it's looking at differences in feature maps from images with or without a sign, or even what feature maps look like in a trained network vs a completely untrained one on the same sign image.\n",
    "\n",
    "<figure>\n",
    " <img src=\"visualize_cnn.png\" width=\"380\" alt=\"Combined Image\" />\n",
    " <figcaption>\n",
    " <p></p> \n",
    " <p style=\"text-align: center;\"> Your output should look something like this (above)</p> \n",
    " </figcaption>\n",
    "</figure>\n",
    " <p></p> \n"
   ]
  },
  {
   "cell_type": "code",
   "execution_count": 40,
   "metadata": {
    "collapsed": true
   },
   "outputs": [],
   "source": [
    "### Visualize your network's feature maps here.\n",
    "### Feel free to use as many code cells as needed.\n",
    "\n",
    "# image_input: the test image being fed into the network to produce the feature maps\n",
    "# tf_activation: should be a tf variable name used during your training procedure that represents the calculated state of a specific weight layer\n",
    "# activation_min/max: can be used to view the activation contrast in more detail, by default matplot sets min and max to the actual min and max values of the output\n",
    "# plt_num: used to plot out multiple different weight feature map sets on the same block, just extend the plt number for each new feature map entry\n",
    "\n",
    "def outputFeatureMap(image_input, tf_activation, activation_min=-1, activation_max=-1 ,plt_num=1):\n",
    "    # Here make sure to preprocess your image_input in a way your network expects\n",
    "    # with size, normalization, ect if needed\n",
    "    # image_input =\n",
    "    # Note: x should be the same name as your network's tensorflow data placeholder variable\n",
    "    # If you get an error tf_activation is not defined it may be having trouble accessing the variable from inside a function\n",
    "    activation = tf_activation.eval(session=sess,feed_dict={x : image_input})\n",
    "    featuremaps = activation.shape[3]\n",
    "    plt.figure(plt_num, figsize=(15,15))\n",
    "    for featuremap in range(featuremaps):\n",
    "        plt.subplot(6,8, featuremap+1) # sets the number of feature maps to show on each row and column\n",
    "        plt.title('FeatureMap ' + str(featuremap)) # displays the feature map number\n",
    "        if activation_min != -1 & activation_max != -1:\n",
    "            plt.imshow(activation[0,:,:, featuremap], interpolation=\"nearest\", vmin =activation_min, vmax=activation_max, cmap=\"gray\")\n",
    "        elif activation_max != -1:\n",
    "            plt.imshow(activation[0,:,:, featuremap], interpolation=\"nearest\", vmax=activation_max, cmap=\"gray\")\n",
    "        elif activation_min !=-1:\n",
    "            plt.imshow(activation[0,:,:, featuremap], interpolation=\"nearest\", vmin=activation_min, cmap=\"gray\")\n",
    "        else:\n",
    "            plt.imshow(activation[0,:,:, featuremap], interpolation=\"nearest\", cmap=\"gray\")"
   ]
  },
  {
   "cell_type": "code",
   "execution_count": 53,
   "metadata": {
    "collapsed": false
   },
   "outputs": [
    {
     "name": "stdout",
     "output_type": "stream",
     "text": [
      "This is default graph.\n"
     ]
    },
    {
     "data": {
      "image/png": "[encoded data removed]",
      "text/plain": [
       "<matplotlib.figure.Figure at 0x7f05afa25550>"
      ]
     },
     "metadata": {},
     "output_type": "display_data"
    }
   ],
   "source": [
    "from tensorflow.contrib import graph_editor as ge\n",
    "with tf.Session() as sess:\n",
    "    # sess.run(tf.global_variables_initializer())\n",
    "    saver = tf.train.import_meta_graph('/home/carnd/traffic-signs/lenet.meta')\n",
    "    saver.restore(sess,  '/home/carnd/traffic-signs/lenet')\n",
    "    print('This is default graph.') if (sess.graph == tf.get_default_graph()) else print('not default graph')\n",
    "    graph = tf.get_default_graph()\n",
    "    \n",
    "    '''\n",
    "    #tensors tensors = tf.global_variables()\n",
    "    tensors = ge.get_tensors(graph)  \n",
    "    tensor_names = [a.name for a in tensors]\n",
    "    # myconv = [a for a in tensor_names if 'myconv' in a ]\n",
    "    # print(myconv)\n",
    "    \n",
    "    # operations \n",
    "    operations = graph.get_operations()\n",
    "    operations_names = [a.name for a in operations]\n",
    "    # print(operations_names[:5])\n",
    "    '''\n",
    "    \n",
    "    my_act1 = graph.get_tensor_by_name('myconv1:0')\n",
    "    my_act2 = graph.get_tensor_by_name('myconv2:0')\n",
    "    # print(type(layer))\n",
    "    outputFeatureMap(np.expand_dims(imgarr_gray[2],0), my_act1)"
   ]
  }
 ],
 "metadata": {
  "anaconda-cloud": {},
  "kernelspec": {
   "display_name": "carnd",
   "language": "python",
   "name": "carnd"
  },
  "language_info": {
   "codemirror_mode": {
    "name": "ipython",
    "version": 3
   },
   "file_extension": ".py",
   "mimetype": "text/x-python",
   "name": "python",
   "nbconvert_exporter": "python",
   "pygments_lexer": "ipython3",
   "version": "3.5.2"
  }
 },
 "nbformat": 4,
 "nbformat_minor": 1
}
