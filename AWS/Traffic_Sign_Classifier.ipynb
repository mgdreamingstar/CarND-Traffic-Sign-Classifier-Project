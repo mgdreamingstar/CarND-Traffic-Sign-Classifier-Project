{
 "cells": [
  {
   "cell_type": "markdown",
   "metadata": {},
   "source": [
    "# Self-Driving Car Engineer Nanodegree\n",
    "\n",
    "## Deep Learning\n",
    "\n",
    "## Project: Build a Traffic Sign Recognition Classifier\n",
    "\n",
    "In this notebook, a template is provided for you to implement your functionality in stages, which is required to successfully complete this project. If additional code is required that cannot be included in the notebook, be sure that the Python code is successfully imported and included in your submission if necessary. \n",
    "\n",
    "> **Note**: Once you have completed all of the code implementations, you need to finalize your work by exporting the iPython Notebook as an HTML document. Before exporting the notebook to html, all of the code cells need to have been run so that reviewers can see the final implementation and output. You can then export the notebook by using the menu above and navigating to  \\n\",\n",
    "    \"**File -> Download as -> HTML (.html)**. Include the finished document along with this notebook as your submission. \n",
    "\n",
    "In addition to implementing code, there is a writeup to complete. The writeup should be completed in a separate file, which can be either a markdown file or a pdf document. There is a [write up template](https://github.com/udacity/CarND-Traffic-Sign-Classifier-Project/blob/master/writeup_template.md) that can be used to guide the writing process. Completing the code template and writeup template will cover all of the [rubric points](https://review.udacity.com/#!/rubrics/481/view) for this project.\n",
    "\n",
    "The [rubric](https://review.udacity.com/#!/rubrics/481/view) contains \"Stand Out Suggestions\" for enhancing the project beyond the minimum requirements. The stand out suggestions are optional. If you decide to pursue the \"stand out suggestions\", you can include the code in this Ipython notebook and also discuss the results in the writeup file.\n",
    "\n",
    "\n",
    ">**Note:** Code and Markdown cells can be executed using the **Shift + Enter** keyboard shortcut. In addition, Markdown cells can be edited by typically double-clicking the cell to enter edit mode."
   ]
  },
  {
   "cell_type": "markdown",
   "metadata": {},
   "source": [
    "---\n",
    "## Step 0: Load The Data"
   ]
  },
  {
   "cell_type": "markdown",
   "metadata": {},
   "source": [
    "### Reminder of Folders' Path"
   ]
  },
  {
   "cell_type": "code",
   "execution_count": 1,
   "metadata": {
    "collapsed": true
   },
   "outputs": [],
   "source": [
    "Home_dir = '/home/carnd/traffic-signs'\n",
    "Test_image_dir = '/home/carnd/traffic-signs/GTSRB/Final_Test/Images'\n",
    "GTSRB_dir = '/home/carnd/traffic-signs/GTSRB'"
   ]
  },
  {
   "cell_type": "markdown",
   "metadata": {},
   "source": [
    "### Download the dataset if it hasn't been downloaded."
   ]
  },
  {
   "cell_type": "code",
   "execution_count": 2,
   "metadata": {
    "collapsed": false
   },
   "outputs": [
    {
     "name": "stdout",
     "output_type": "stream",
     "text": [
      "Changing to Home_dir.\n",
      "traffic-signs-data.zip already downloaded.\n"
     ]
    }
   ],
   "source": [
    "import urllib.request as ulr\n",
    "import zipfile, glob, os\n",
    "os.chdir(Home_dir)\n",
    "print('Changing to Home_dir.')\n",
    "if not (glob.glob('traffic-signs-data.zip') or glob.glob('test.p')):\n",
    "    filez, headers = ulr.urlretrieve('https://d17h27t6h515a5.cloudfront.net/topher/2017/February/5898cd6f_traffic-signs-data/traffic-signs-data.zip','traffic-signs-data.zip')\n",
    "else:\n",
    "    print('traffic-signs-data.zip already downloaded.')"
   ]
  },
  {
   "cell_type": "markdown",
   "metadata": {},
   "source": [
    "### Extract the zip file if it hasn't been unzipped."
   ]
  },
  {
   "cell_type": "code",
   "execution_count": 3,
   "metadata": {
    "collapsed": false
   },
   "outputs": [
    {
     "name": "stdout",
     "output_type": "stream",
     "text": [
      "Changing to Home_dir.\n",
      "traffic-signs-data.zip already unzipped.\n"
     ]
    }
   ],
   "source": [
    "os.chdir(Home_dir)\n",
    "print('Changing to Home_dir.')\n",
    "if not (glob.glob('train.p')):\n",
    "    data = zipfile.ZipFile(filez,'r')\n",
    "    data.extractall()\n",
    "    data.close()\n",
    "else:\n",
    "    print('traffic-signs-data.zip already unzipped.')"
   ]
  },
  {
   "cell_type": "markdown",
   "metadata": {},
   "source": [
    "### Load the Data."
   ]
  },
  {
   "cell_type": "code",
   "execution_count": 4,
   "metadata": {
    "collapsed": false
   },
   "outputs": [
    {
     "name": "stdout",
     "output_type": "stream",
     "text": [
      "Changing to Home_dir.\n",
      "Data loaded.\n"
     ]
    }
   ],
   "source": [
    "# Load pickled data\n",
    "import pickle\n",
    "import os\n",
    "\n",
    "# TODO: Fill this in based on where you saved the training and testing data\n",
    "os.chdir(Home_dir)\n",
    "print('Changing to Home_dir.')\n",
    "cwd = os.getcwd()\n",
    "training_file =  os.path.join(cwd,'train.p')\n",
    "validation_file = os.path.join(cwd, 'valid.p')\n",
    "testing_file = os.path.join(cwd ,'test.p')\n",
    "\n",
    "with open(training_file, mode='rb') as f:\n",
    "    train = pickle.load(f)\n",
    "with open(validation_file, mode='rb') as f:\n",
    "    valid = pickle.load(f)\n",
    "with open(testing_file, mode='rb') as f:\n",
    "    test = pickle.load(f)\n",
    "    \n",
    "X_train, y_train = train['features'], train['labels']\n",
    "X_valid, y_valid = valid['features'], valid['labels']\n",
    "X_test, y_test = test['features'], test['labels']\n",
    "\n",
    "print('Data loaded.')"
   ]
  },
  {
   "cell_type": "markdown",
   "metadata": {},
   "source": [
    "---\n",
    "\n",
    "## Step 1: Dataset Summary & Exploration\n",
    "\n",
    "The pickled data is a dictionary with 4 key/value pairs:\n",
    "\n",
    "- `'features'` is a 4D array containing raw pixel data of the traffic sign images, (num examples, width, height, channels).\n",
    "- `'labels'` is a 1D array containing the label/class id of the traffic sign. The file `signnames.csv` contains id -> name mappings for each id.\n",
    "- `'sizes'` is a list containing tuples, (width, height) representing the original width and height the image.\n",
    "- `'coords'` is a list containing tuples, (x1, y1, x2, y2) representing coordinates of a bounding box around the sign in the image. **THESE COORDINATES ASSUME THE ORIGINAL IMAGE. THE PICKLED DATA CONTAINS RESIZED VERSIONS (32 by 32) OF THESE IMAGES**\n",
    "\n",
    "Complete the basic data summary below. Use python, numpy and/or pandas methods to calculate the data summary rather than hard coding the results. For example, the [pandas shape method](http://pandas.pydata.org/pandas-docs/stable/generated/pandas.DataFrame.shape.html) might be useful for calculating some of the summary results. "
   ]
  },
  {
   "cell_type": "markdown",
   "metadata": {},
   "source": [
    "### Provide a Basic Summary of the Data Set Using Python, Numpy and/or Pandas"
   ]
  },
  {
   "cell_type": "code",
   "execution_count": 5,
   "metadata": {
    "collapsed": false,
    "scrolled": true
   },
   "outputs": [
    {
     "name": "stdout",
     "output_type": "stream",
     "text": [
      "Changing to Home_dir.\n",
      "Number of training examples = 34799\n",
      "Number of testing examples = 12630\n",
      "Image data shape = (32, 32, 3)\n",
      "Number of classes = 43\n",
      "columns of the pickled data:  dict_keys(['labels', 'sizes', 'features', 'coords'])\n",
      "The shape of the pictures is (32, 32)\n"
     ]
    }
   ],
   "source": [
    "### Replace each question mark with the appropriate value. \n",
    "### Use python, pandas or numpy methods rather than hard coding the results\n",
    "import numpy as np\n",
    "import pandas as pd\n",
    "# TODO: Number of training examples\n",
    "n_train = np.shape(X_train)[0]\n",
    "\n",
    "# TODO: Number of validation examples\n",
    "n_validation = np.shape(X_valid)[0]\n",
    "\n",
    "# TODO: Number of testing examples.\n",
    "n_test = np.shape(X_test)[0]\n",
    "\n",
    "# TODO: What's the shape of an traffic sign image?\n",
    "image_shape = X_train[0].shape\n",
    "\n",
    "# TODO: How many unique classes/labels there are in the dataset.\n",
    "os.chdir(Home_dir)\n",
    "print('Changing to Home_dir.')\n",
    "cwd = os.getcwd()\n",
    "signnames = []\n",
    "with open(os.path.join(cwd, 'signnames.csv'),'rb') as signnamescsv:\n",
    "    for row in signnamescsv:\n",
    "        signnames.append(row.decode('utf-8').rstrip().split(',')[1])\n",
    "signnames = pd.Series(signnames[1:])\n",
    "n_classes = signnames.shape[0]\n",
    "\n",
    "print(\"Number of training examples =\", n_train)\n",
    "print(\"Number of testing examples =\", n_test)\n",
    "print(\"Image data shape =\", image_shape)\n",
    "print(\"Number of classes =\", n_classes)\n",
    "\n",
    "print(\"columns of the pickled data: \", train.keys())\n",
    "print('The shape of the pictures is {}'.format(repr(X_train[0,0:32,0:32,0].shape)))"
   ]
  },
  {
   "cell_type": "markdown",
   "metadata": {},
   "source": [
    "### Include an exploratory visualization of the dataset"
   ]
  },
  {
   "cell_type": "markdown",
   "metadata": {},
   "source": [
    "Visualize the German Traffic Signs Dataset using the pickled file(s). This is open ended, suggestions include: plotting traffic sign images, plotting the count of each sign, etc. \n",
    "\n",
    "The [Matplotlib](http://matplotlib.org/) [examples](http://matplotlib.org/examples/index.html) and [gallery](http://matplotlib.org/gallery.html) pages are a great resource for doing visualizations in Python.\n",
    "\n",
    "**NOTE:** It's recommended you start with something simple first. If you wish to do more, come back to it after you've completed the rest of the sections. It can be interesting to look at the distribution of classes in the training, validation and test set. Is the distribution the same? Are there more examples of some classes than others?"
   ]
  },
  {
   "cell_type": "code",
   "execution_count": 6,
   "metadata": {
    "collapsed": false
   },
   "outputs": [
    {
     "name": "stdout",
     "output_type": "stream",
     "text": [
      "        Number of Signs                                      Name of Signs\n",
      "labels                                                                    \n",
      "0                   180                               Speed limit (20km/h)\n",
      "1                  1980                               Speed limit (30km/h)\n",
      "2                  2010                               Speed limit (50km/h)\n",
      "3                  1260                               Speed limit (60km/h)\n",
      "4                  1770                               Speed limit (70km/h)\n",
      "5                  1650                               Speed limit (80km/h)\n",
      "6                   360                        End of speed limit (80km/h)\n",
      "7                  1290                              Speed limit (100km/h)\n",
      "8                  1260                              Speed limit (120km/h)\n",
      "9                  1320                                         No passing\n",
      "10                 1800       No passing for vehicles over 3.5 metric tons\n",
      "11                 1170              Right-of-way at the next intersection\n",
      "12                 1890                                      Priority road\n",
      "13                 1920                                              Yield\n",
      "14                  690                                               Stop\n",
      "15                  540                                        No vehicles\n",
      "16                  360           Vehicles over 3.5 metric tons prohibited\n",
      "17                  990                                           No entry\n",
      "18                 1080                                    General caution\n",
      "19                  180                        Dangerous curve to the left\n",
      "20                  300                       Dangerous curve to the right\n",
      "21                  270                                       Double curve\n",
      "22                  330                                         Bumpy road\n",
      "23                  450                                      Slippery road\n",
      "24                  240                          Road narrows on the right\n",
      "25                 1350                                          Road work\n",
      "26                  540                                    Traffic signals\n",
      "27                  210                                        Pedestrians\n",
      "28                  480                                  Children crossing\n",
      "29                  240                                  Bicycles crossing\n",
      "30                  390                                 Beware of ice/snow\n",
      "31                  690                              Wild animals crossing\n",
      "32                  210                End of all speed and passing limits\n",
      "33                  599                                   Turn right ahead\n",
      "34                  360                                    Turn left ahead\n",
      "35                 1080                                         Ahead only\n",
      "36                  330                               Go straight or right\n",
      "37                  180                                Go straight or left\n",
      "38                 1860                                         Keep right\n",
      "39                  270                                          Keep left\n",
      "40                  300                               Roundabout mandatory\n",
      "41                  210                                  End of no passing\n",
      "42                  210  End of no passing by vehicles over 3.5 metric ...\n"
     ]
    },
    {
     "data": {
      "image/png": "[encoded data removed]",
      "text/plain": [
       "<matplotlib.figure.Figure at 0x7f9f92343ef0>"
      ]
     },
     "metadata": {},
     "output_type": "display_data"
    }
   ],
   "source": [
    "### Data exploration visualization code goes here.\n",
    "### Feel free to use as many code cells as needed.\n",
    "import matplotlib.pyplot as plt\n",
    "# import cv2\n",
    "# Visualizations will be shown in the notebook.\n",
    "%matplotlib inline\n",
    "labelsgroup = pd.DataFrame({'labels':train['labels']})\n",
    "summary = pd.DataFrame(labelsgroup.groupby('labels').size())\n",
    "summary.insert(1,'Signs',signnames)\n",
    "summary.columns = ['Number of Signs','Name of Signs']\n",
    "plt.figure(figsize=(10,5))\n",
    "plt.title('Signs examples\\' amount of each class')\n",
    "plt.bar(summary.index,summary['Number of Signs'])\n",
    "print(summary)"
   ]
  },
  {
   "cell_type": "code",
   "execution_count": 7,
   "metadata": {
    "collapsed": false
   },
   "outputs": [
    {
     "data": {
      "image/png": "[encoded data removed]",
      "text/plain": [
       "<matplotlib.figure.Figure at 0x7f9f8ff46ef0>"
      ]
     },
     "metadata": {},
     "output_type": "display_data"
    }
   ],
   "source": [
    "n = 1000\n",
    "fig, ax = plt.subplots(1,5,figsize = (16,16))\n",
    "for ind in range(5):\n",
    "    img = X_train[n * (ind + 1)].squeeze()\n",
    "    ax[ind].set_title('No. {} Picture'.format(n + 1000 * ind))\n",
    "    ax[ind].imshow(img)"
   ]
  },
  {
   "cell_type": "markdown",
   "metadata": {},
   "source": [
    "## Generate fake pictures"
   ]
  },
  {
   "cell_type": "code",
   "execution_count": 8,
   "metadata": {
    "collapsed": false
   },
   "outputs": [
    {
     "name": "stdout",
     "output_type": "stream",
     "text": [
      "2010\n"
     ]
    }
   ],
   "source": [
    "max_pic_class = print(max(summary['Number of Signs']))"
   ]
  },
  {
   "cell_type": "markdown",
   "metadata": {},
   "source": [
    "----\n",
    "\n",
    "## Step 2: Design and Test a Model Architecture\n",
    "\n",
    "Design and implement a deep learning model that learns to recognize traffic signs. Train and test your model on the [German Traffic Sign Dataset](http://benchmark.ini.rub.de/?section=gtsrb&subsection=dataset).\n",
    "\n",
    "The LeNet-5 implementation shown in the [classroom](https://classroom.udacity.com/nanodegrees/nd013/parts/fbf77062-5703-404e-b60c-95b78b2f3f9e/modules/6df7ae49-c61c-4bb2-a23e-6527e69209ec/lessons/601ae704-1035-4287-8b11-e2c2716217ad/concepts/d4aca031-508f-4e0b-b493-e7b706120f81) at the end of the CNN lesson is a solid starting point. You'll have to change the number of classes and possibly the preprocessing, but aside from that it's plug and play! \n",
    "\n",
    "With the LeNet-5 solution from the lecture, you should expect a validation set accuracy of about 0.89. To meet specifications, the validation set accuracy will need to be at least 0.93. It is possible to get an even higher accuracy, but 0.93 is the minimum for a successful project submission. \n",
    "\n",
    "There are various aspects to consider when thinking about this problem:\n",
    "\n",
    "- Neural network architecture (is the network over or underfitting?)\n",
    "- Play around preprocessing techniques (normalization, rgb to grayscale, etc)\n",
    "- Number of examples per label (some have more than others).\n",
    "- Generate fake data.\n",
    "\n",
    "Here is an example of a [published baseline model on this problem](http://yann.lecun.com/exdb/publis/pdf/sermanet-ijcnn-11.pdf). It's not required to be familiar with the approach used in the paper but, it's good practice to try to read papers like these."
   ]
  },
  {
   "cell_type": "markdown",
   "metadata": {},
   "source": [
    "### Pre-process the Data Set (normalization, grayscale, etc.)"
   ]
  },
  {
   "cell_type": "markdown",
   "metadata": {},
   "source": [
    "Minimally, the image data should be normalized so that the data has mean zero and equal variance. For image data, `(pixel - 128)/ 128` is a quick way to approximately normalize the data and can be used in this project. \n",
    "\n",
    "Other pre-processing steps are optional. You can try different techniques to see if it improves performance. \n",
    "\n",
    "Use the code cell (or multiple code cells, if necessary) to implement the first step of your project."
   ]
  },
  {
   "cell_type": "markdown",
   "metadata": {},
   "source": [
    "### Grayscale the Data Set"
   ]
  },
  {
   "cell_type": "code",
   "execution_count": 9,
   "metadata": {
    "collapsed": true
   },
   "outputs": [],
   "source": [
    "def grayimg(x):\n",
    "    return np.dot(x,np.array([0.299,0.587,0.114]))"
   ]
  },
  {
   "cell_type": "code",
   "execution_count": 10,
   "metadata": {
    "collapsed": false
   },
   "outputs": [],
   "source": [
    "X_train_gray = grayimg(X_train)\n",
    "X_valid_gray = grayimg(X_valid)\n",
    "X_test_gray = grayimg(X_test)"
   ]
  },
  {
   "cell_type": "code",
   "execution_count": 11,
   "metadata": {
    "collapsed": false
   },
   "outputs": [
    {
     "data": {
      "image/png": "[encoded data removed]",
      "text/plain": [
       "<matplotlib.figure.Figure at 0x7f9f8fd79320>"
      ]
     },
     "metadata": {},
     "output_type": "display_data"
    }
   ],
   "source": [
    "n = 1000\n",
    "fig, ax = plt.subplots(1,5,figsize = (16,16))\n",
    "for ind in range(5):\n",
    "    img = X_train_gray[n * (ind + 1)].squeeze()\n",
    "    ax[ind].set_title('No. {} Grayscale'.format(n + 1000 * ind))\n",
    "    ax[ind].imshow(img, cmap = 'gray')"
   ]
  },
  {
   "cell_type": "markdown",
   "metadata": {},
   "source": [
    "### Normalize the Data Set"
   ]
  },
  {
   "cell_type": "code",
   "execution_count": 12,
   "metadata": {
    "collapsed": true
   },
   "outputs": [],
   "source": [
    "# normalize the pictures\n",
    "def normal_pics(array):\n",
    "    # return np.divide((array-np.mean(array, axis = 1)[:,None,:]), np.std(array, axis = 1)[:,None,:])\n",
    "    return (array - array.mean()) / array.std()"
   ]
  },
  {
   "cell_type": "code",
   "execution_count": 13,
   "metadata": {
    "collapsed": false
   },
   "outputs": [],
   "source": [
    "### Preprocess the data here. It is required to normalize the data. Other preprocessing steps could include \n",
    "### converting to grayscale, etc.\n",
    "### Feel free to use as many code cells as needed.\n",
    "\n",
    "# X_train_gray = (X_train_gray - 128) / 128\n",
    "# X_valid_gray = (X_valid_gray - 128) / 128\n",
    "# X_test_gray = (X_test_gray - 128) / 128\n",
    "# X_train = (X_train - 128) / 128\n",
    "# X_valid = (X_train - 128) / 128\n",
    "# X_test = (X_test - 128) / 128\n",
    "\n",
    "X_train_gray = normal_pics(X_train_gray)\n",
    "X_valid_gray = normal_pics(X_valid_gray)\n",
    "X_test_gray = normal_pics(X_test_gray)"
   ]
  },
  {
   "cell_type": "markdown",
   "metadata": {},
   "source": [
    "### Model Architecture"
   ]
  },
  {
   "cell_type": "code",
   "execution_count": 14,
   "metadata": {
    "collapsed": false
   },
   "outputs": [
    {
     "name": "stdout",
     "output_type": "stream",
     "text": [
      "done\n"
     ]
    }
   ],
   "source": [
    "### Define your architecture here.\n",
    "### Feel free to use as many code cells as needed.\n",
    "from tensorflow.contrib.layers import flatten\n",
    "import tensorflow as tf\n",
    "channels = 1 # grayscale or not\n",
    "p_keep_1= 1\n",
    "p_keep = 1\n",
    "\n",
    "def LeNet(x):    \n",
    "    # Hyperparameters\n",
    "    mu = 0\n",
    "    sigma = 0.1\n",
    "\n",
    "    # SOLUTION: Layer 1: Convolutional. Input = 32x32x1. Output = 28x28x6.\n",
    "    conv1_W = tf.Variable(tf.truncated_normal(shape=(5, 5, channels, 6), mean = mu, stddev = sigma), name = 'myconv1_W')\n",
    "    conv1_b = tf.Variable(tf.zeros(6), name = 'myconv1_b')\n",
    "    conv1   = tf.nn.conv2d(x, conv1_W, strides=[1, 1, 1, 1], padding='VALID') + conv1_b\n",
    "\n",
    "    # SOLUTION: Activation.\n",
    "    conv1 = tf.nn.relu(conv1, name = 'myconv1')\n",
    "    # dropout\n",
    "    conv1 = tf.nn.dropout(conv1, p_keep_1)\n",
    "    \n",
    "    # SOLUTION: Pooling. Input = 28x28x6. Output = 14x14x6.\n",
    "    conv1 = tf.nn.max_pool(conv1, ksize=[1, 2, 2, 1], strides=[1, 2, 2, 1], padding='VALID',name = 'myconv1_pool')\n",
    "    \n",
    "    \n",
    "    # SOLUTION: Layer 2: Convolutional. Output = 10x10x16.\n",
    "    conv2_W = tf.Variable(tf.truncated_normal(shape=(5, 5, 6, 16), mean = mu, stddev = sigma), name = 'myconv2_W')\n",
    "    conv2_b = tf.Variable(tf.zeros(16), name = 'myconv2_b')\n",
    "    conv2   = tf.nn.conv2d(conv1, conv2_W, strides=[1, 1, 1, 1], padding='VALID') + conv2_b\n",
    "\n",
    "    # SOLUTION: Activation.\n",
    "    conv2 = tf.nn.relu(conv2, name = 'myconv2')\n",
    "\n",
    "    # SOLUTION: Pooling. Input = 10x10x16. Output = 5x5x16.\n",
    "    conv2 = tf.nn.max_pool(conv2, ksize=[1, 2, 2, 1], strides=[1, 2, 2, 1], padding='VALID', name = 'myconv2_pool')\n",
    "   \n",
    "    \n",
    "    # SOLUTION: Flatten. Input = 5x5x16. Output = 400.\n",
    "    fc0   = flatten(conv2)\n",
    "    fc0   = tf.nn.dropout(fc0, p_keep)\n",
    "    \n",
    "    # SOLUTION: Layer 3: Fully Connected. Input = 400. Output = 120.\n",
    "    fc1_W = tf.Variable(tf.truncated_normal(shape=(400, 120), mean = mu, stddev = sigma), name = 'myfc1_W')\n",
    "    fc1_b = tf.Variable(tf.zeros(120), name = 'myfc1_b')\n",
    "    fc1   = tf.matmul(fc0, fc1_W) + fc1_b\n",
    "\n",
    "    # SOLUTION: Activation.\n",
    "    fc1    = tf.nn.relu(fc1, name = 'myfc1')\n",
    "    fc1    = tf.nn.dropout(fc1, p_keep)\n",
    "\n",
    "    # SOLUTION: Layer 4: Fully Connected. Input = 120. Output = 84.\n",
    "    fc2_W  = tf.Variable(tf.truncated_normal(shape=(120, 84), mean = mu, stddev = sigma), name = 'myfc2_W')\n",
    "    fc2_b  = tf.Variable(tf.zeros(84), name = 'myfc2_b')\n",
    "    fc2    = tf.matmul(fc1, fc2_W) + fc2_b\n",
    "\n",
    "    # SOLUTION: Activation.\n",
    "    fc2    = tf.nn.relu(fc2, name = 'myfc2')\n",
    "    fc2    = tf.nn.dropout(fc2, p_keep)\n",
    "    \n",
    "    # SOLUTION: Layer 5: Fully Connected. Input = 84. Output = 10.\n",
    "    fc3_W  = tf.Variable(tf.truncated_normal(shape=(84, 43), mean = mu, stddev = sigma), name = 'myfc3_W')\n",
    "    fc3_b  = tf.Variable(tf.zeros(43), name = 'myfc3_b')\n",
    "    logits = tf.matmul(fc2, fc3_W) + fc3_b\n",
    "    \n",
    "    return logits\n",
    "print('done')"
   ]
  },
  {
   "cell_type": "markdown",
   "metadata": {},
   "source": [
    "### Train, Validate and Test the Model"
   ]
  },
  {
   "cell_type": "markdown",
   "metadata": {},
   "source": [
    "A validation set can be used to assess how well the model is performing. A low accuracy on the training and validation\n",
    "sets imply underfitting. A high accuracy on the training set but low accuracy on the validation set implies overfitting."
   ]
  },
  {
   "cell_type": "code",
   "execution_count": 15,
   "metadata": {
    "collapsed": false
   },
   "outputs": [],
   "source": [
    "### Train your model here.\n",
    "### Calculate and report the accuracy on the training and validation set.\n",
    "### Once a final model architecture is selected, \n",
    "### the accuracy on the test set should be calculated and reported as well.\n",
    "### Feel free to use as many code cells as needed.\n",
    "x = tf.placeholder(tf.float32, (None, 32, 32, channels), name = 'x')\n",
    "y = tf.placeholder(tf.int32, (None), name = 'y')\n",
    "one_hot_y = tf.one_hot(y, 43)\n",
    "\n",
    "rate = 0.001\n",
    "EPOCHS = 50\n",
    "BATCH_SIZE = 128"
   ]
  },
  {
   "cell_type": "code",
   "execution_count": 16,
   "metadata": {
    "collapsed": false
   },
   "outputs": [],
   "source": [
    "logits = LeNet(x)\n",
    "cross_entropy = tf.nn.softmax_cross_entropy_with_logits(labels=one_hot_y, logits=logits)\n",
    "loss_operation = tf.reduce_mean(cross_entropy)\n",
    "optimizer = tf.train.AdamOptimizer(learning_rate = rate)\n",
    "training_operation = optimizer.minimize(loss_operation)"
   ]
  },
  {
   "cell_type": "code",
   "execution_count": 17,
   "metadata": {
    "collapsed": false
   },
   "outputs": [
    {
     "name": "stdout",
     "output_type": "stream",
     "text": [
      "done\n"
     ]
    }
   ],
   "source": [
    "correct_prediction = tf.equal(tf.argmax(logits, 1), tf.argmax(one_hot_y, 1))\n",
    "accuracy_operation = tf.reduce_mean(tf.cast(correct_prediction, tf.float32))\n",
    "saver = tf.train.Saver()\n",
    "\n",
    "def evaluate(X_data, y_data):\n",
    "    num_examples = len(X_data)\n",
    "    total_accuracy = 0\n",
    "    sess = tf.get_default_session()\n",
    "    for offset in range(0, num_examples, BATCH_SIZE):\n",
    "        batch_x, batch_y = X_data[offset:offset+BATCH_SIZE], y_data[offset:offset+BATCH_SIZE]\n",
    "        accuracy = sess.run(accuracy_operation, feed_dict={x: batch_x, y: batch_y})\n",
    "        total_accuracy += (accuracy * len(batch_x))\n",
    "    return total_accuracy / num_examples\n",
    "print('done')"
   ]
  },
  {
   "cell_type": "markdown",
   "metadata": {
    "collapsed": false
   },
   "source": [
    "### Adjust dimensions. Assign the train, valid and test set to the grayscale ones."
   ]
  },
  {
   "cell_type": "code",
   "execution_count": 18,
   "metadata": {
    "collapsed": false
   },
   "outputs": [],
   "source": [
    "if X_train_gray.ndim == 3:\n",
    "    X_train_gray = X_train_gray[...,None]\n",
    "if X_valid_gray.ndim == 3:\n",
    "    X_valid_gray = X_valid_gray[...,None]\n",
    "if X_test_gray.ndim == 3:\n",
    "    X_test_gray = X_test_gray[...,None]\n",
    "\n",
    "X_train_0 = X_train\n",
    "\n",
    "if channels == 1:\n",
    "    X_train = X_train_gray\n",
    "    X_valid = X_valid_gray\n",
    "    X_test = X_test_gray "
   ]
  },
  {
   "cell_type": "code",
   "execution_count": 19,
   "metadata": {
    "collapsed": false
   },
   "outputs": [
    {
     "name": "stdout",
     "output_type": "stream",
     "text": [
      "shape of pictures after grayscaling is (32, 32, 1)\n"
     ]
    }
   ],
   "source": [
    "print('shape of pictures after grayscaling is {}'.format(X_train_gray[0].shape))"
   ]
  },
  {
   "cell_type": "markdown",
   "metadata": {},
   "source": [
    "### Backup the model"
   ]
  },
  {
   "cell_type": "code",
   "execution_count": 20,
   "metadata": {
    "collapsed": false
   },
   "outputs": [
    {
     "name": "stdout",
     "output_type": "stream",
     "text": [
      "Changing to Home_dir.\n",
      "lenet.index deleted\n",
      "lenet.data-00000-of-00001 deleted\n",
      "lenet.meta deleted\n"
     ]
    }
   ],
   "source": [
    "os.chdir(Home_dir)\n",
    "print('Changing to Home_dir.')\n",
    "\n",
    "lenetfiles = glob.glob('lenet.*')\n",
    "\n",
    "backup_model = False\n",
    "if not backup_model:\n",
    "    #for file in lenetfiles:\n",
    "    #    os.rename(file, 'backup-'+file)\n",
    "    for file in lenetfiles:\n",
    "        os.remove(file)\n",
    "        print('{} deleted'.format(file))"
   ]
  },
  {
   "cell_type": "markdown",
   "metadata": {},
   "source": [
    "### Train the model if there isn't a trained model."
   ]
  },
  {
   "cell_type": "code",
   "execution_count": 21,
   "metadata": {
    "collapsed": false
   },
   "outputs": [
    {
     "name": "stdout",
     "output_type": "stream",
     "text": [
      "Changing to Home_dir.\n",
      "No model. Begin training.\n",
      "Training...\n",
      "\n",
      "EPOCH 1 ...\n",
      "Validation Accuracy = 0.821\n",
      "\n",
      "EPOCH 2 ...\n",
      "Validation Accuracy = 0.879\n",
      "\n",
      "EPOCH 3 ...\n",
      "Validation Accuracy = 0.880\n",
      "\n",
      "EPOCH 4 ...\n",
      "Validation Accuracy = 0.909\n",
      "\n",
      "EPOCH 5 ...\n",
      "Validation Accuracy = 0.918\n",
      "\n",
      "EPOCH 6 ...\n",
      "Validation Accuracy = 0.912\n",
      "\n",
      "EPOCH 7 ...\n",
      "Validation Accuracy = 0.912\n",
      "\n",
      "EPOCH 8 ...\n",
      "Validation Accuracy = 0.913\n",
      "\n",
      "EPOCH 9 ...\n",
      "Validation Accuracy = 0.924\n",
      "\n",
      "EPOCH 10 ...\n",
      "Validation Accuracy = 0.921\n",
      "\n",
      "EPOCH 11 ...\n",
      "Validation Accuracy = 0.923\n",
      "\n",
      "EPOCH 12 ...\n",
      "Validation Accuracy = 0.933\n",
      "\n",
      "EPOCH 13 ...\n",
      "Validation Accuracy = 0.932\n",
      "\n",
      "EPOCH 14 ...\n",
      "Validation Accuracy = 0.916\n",
      "\n",
      "EPOCH 15 ...\n",
      "Validation Accuracy = 0.939\n",
      "\n",
      "EPOCH 16 ...\n",
      "Validation Accuracy = 0.924\n",
      "\n",
      "EPOCH 17 ...\n",
      "Validation Accuracy = 0.936\n",
      "\n",
      "EPOCH 18 ...\n",
      "Validation Accuracy = 0.946\n",
      "\n",
      "EPOCH 19 ...\n",
      "Validation Accuracy = 0.940\n",
      "\n",
      "EPOCH 20 ...\n",
      "Validation Accuracy = 0.920\n",
      "\n",
      "EPOCH 21 ...\n",
      "Validation Accuracy = 0.916\n",
      "\n",
      "EPOCH 22 ...\n",
      "Validation Accuracy = 0.941\n",
      "\n",
      "EPOCH 23 ...\n",
      "Validation Accuracy = 0.929\n",
      "\n",
      "EPOCH 24 ...\n",
      "Validation Accuracy = 0.950\n",
      "\n",
      "EPOCH 25 ...\n",
      "Validation Accuracy = 0.944\n",
      "\n",
      "EPOCH 26 ...\n",
      "Validation Accuracy = 0.942\n",
      "\n",
      "EPOCH 27 ...\n",
      "Validation Accuracy = 0.953\n",
      "\n",
      "EPOCH 28 ...\n",
      "Validation Accuracy = 0.928\n",
      "\n",
      "EPOCH 29 ...\n",
      "Validation Accuracy = 0.926\n",
      "\n",
      "EPOCH 30 ...\n",
      "Validation Accuracy = 0.946\n",
      "\n",
      "EPOCH 31 ...\n",
      "Validation Accuracy = 0.952\n",
      "\n",
      "EPOCH 32 ...\n",
      "Validation Accuracy = 0.953\n",
      "\n",
      "EPOCH 33 ...\n",
      "Validation Accuracy = 0.954\n",
      "\n",
      "EPOCH 34 ...\n",
      "Validation Accuracy = 0.952\n",
      "\n",
      "EPOCH 35 ...\n",
      "Validation Accuracy = 0.939\n",
      "\n",
      "EPOCH 36 ...\n",
      "Validation Accuracy = 0.925\n",
      "\n",
      "EPOCH 37 ...\n",
      "Validation Accuracy = 0.940\n",
      "\n",
      "EPOCH 38 ...\n",
      "Validation Accuracy = 0.954\n",
      "\n",
      "EPOCH 39 ...\n",
      "Validation Accuracy = 0.949\n",
      "\n",
      "EPOCH 40 ...\n",
      "Validation Accuracy = 0.947\n",
      "\n",
      "EPOCH 41 ...\n",
      "Validation Accuracy = 0.959\n",
      "\n",
      "EPOCH 42 ...\n",
      "Validation Accuracy = 0.960\n",
      "\n",
      "EPOCH 43 ...\n",
      "Validation Accuracy = 0.959\n",
      "\n",
      "EPOCH 44 ...\n",
      "Validation Accuracy = 0.961\n",
      "\n",
      "EPOCH 45 ...\n",
      "Validation Accuracy = 0.959\n",
      "\n",
      "EPOCH 46 ...\n",
      "Validation Accuracy = 0.958\n",
      "\n",
      "EPOCH 47 ...\n",
      "Validation Accuracy = 0.958\n",
      "\n",
      "EPOCH 48 ...\n",
      "Validation Accuracy = 0.960\n",
      "\n",
      "EPOCH 49 ...\n",
      "Validation Accuracy = 0.958\n",
      "\n",
      "EPOCH 50 ...\n",
      "Validation Accuracy = 0.943\n",
      "\n",
      "Model saved\n"
     ]
    }
   ],
   "source": [
    "os.chdir(Home_dir)\n",
    "print('Changing to Home_dir.')\n",
    "\n",
    "if not glob.glob('lenet.*'):\n",
    "    print('No model. Begin training.')\n",
    "    from sklearn.utils import shuffle\n",
    "    with tf.Session() as sess:\n",
    "        sess.run(tf.global_variables_initializer())\n",
    "        num_examples = len(X_train)\n",
    "\n",
    "        print(\"Training...\")\n",
    "        print()\n",
    "        for i in range(EPOCHS):\n",
    "            X_train, y_train = shuffle(X_train, y_train)\n",
    "            for offset in range(0, num_examples, BATCH_SIZE):\n",
    "                end = offset + BATCH_SIZE\n",
    "                batch_x, batch_y = X_train[offset:end], y_train[offset:end]\n",
    "                sess.run(training_operation, feed_dict={x: batch_x, y: batch_y})\n",
    "\n",
    "            validation_accuracy = evaluate(X_valid, y_valid)\n",
    "            print(\"EPOCH {} ...\".format(i+1))\n",
    "            print(\"Validation Accuracy = {:.3f}\".format(validation_accuracy))\n",
    "            print()\n",
    "\n",
    "        saver.save(sess, '/home/carnd/traffic-signs/lenet')\n",
    "        print(\"Model saved\")"
   ]
  },
  {
   "cell_type": "markdown",
   "metadata": {},
   "source": [
    "---\n",
    "\n",
    "## Step 3: Test a Model on New Images\n",
    "\n",
    "To give yourself more insight into how your model is working, download at least five pictures of German traffic signs from the web and use your model to predict the traffic sign type.\n",
    "\n",
    "You may find `signnames.csv` useful as it contains mappings from the class id (integer) to the actual sign name."
   ]
  },
  {
   "cell_type": "code",
   "execution_count": 22,
   "metadata": {
    "collapsed": false
   },
   "outputs": [
    {
     "name": "stdout",
     "output_type": "stream",
     "text": [
      "Changing to Home_dir.\n",
      "Test Accuracy = 0.910\n"
     ]
    }
   ],
   "source": [
    "# os.chdir('/home/carnd/traffic-signs')\n",
    "os.chdir(Home_dir)\n",
    "print('Changing to Home_dir.')\n",
    "\n",
    "import tensorflow as tf\n",
    "with tf.Session() as sess:\n",
    "    # saver.restore(sess, tf.train.latest_checkpoint('.'))\n",
    "    saver.restore(sess, Home_dir + '/lenet')\n",
    "    test_accuracy = evaluate(X_test, y_test)\n",
    "    print(\"Test Accuracy = {:.3f}\".format(test_accuracy))"
   ]
  },
  {
   "cell_type": "markdown",
   "metadata": {},
   "source": [
    "### Load and Output the Images"
   ]
  },
  {
   "cell_type": "code",
   "execution_count": 23,
   "metadata": {
    "collapsed": false
   },
   "outputs": [
    {
     "name": "stdout",
     "output_type": "stream",
     "text": [
      "Changing to Home_dir.\n",
      "GTSRB_Images.zip exist.\n"
     ]
    }
   ],
   "source": [
    "### Load the images and plot them here.\n",
    "### Feel free to use as many code cells as needed.\n",
    "os.chdir(Home_dir)\n",
    "print('Changing to Home_dir.')\n",
    "\n",
    "if not glob.glob('GTSRB_Images.zip'):\n",
    "    X_train_0, header = ulr.urlretrieve('http://benchmark.ini.rub.de/Dataset/GTSRB_Final_Test_Images.zip','GTSRB_Images.zip')\n",
    "    print('Downloading test data file...')\n",
    "    X_zip = zipfile.ZipFile(X_train_0, 'r')\n",
    "    X_zip.extractall()\n",
    "    X_zip.close()\n",
    "    print('File unzipped.')\n",
    "else:\n",
    "    print('GTSRB_Images.zip exist.')\n",
    "    \n",
    "shuffled = False"
   ]
  },
  {
   "cell_type": "markdown",
   "metadata": {},
   "source": [
    "### Change folder to the test pictures' folder. Print names of first 10 pictures."
   ]
  },
  {
   "cell_type": "code",
   "execution_count": 24,
   "metadata": {
    "collapsed": false
   },
   "outputs": [
    {
     "name": "stdout",
     "output_type": "stream",
     "text": [
      "Changing to test image dir.\n",
      "['04241.ppm', '11105.ppm', '01024.ppm', '03765.ppm', '11760.ppm', '05918.ppm', '12213.ppm', '00080.ppm', '06801.ppm', '04256.ppm']\n",
      "test set shuffled\n"
     ]
    }
   ],
   "source": [
    "# '/home/carnd/traffic-signs/GTSRB/Final_Test/Images/'\n",
    "if os.getcwd() != Test_image_dir:\n",
    "    os.chdir(Test_image_dir)\n",
    "    print('Changing to test image dir.')\n",
    "else:\n",
    "    print('Current working folder:', Test_image_dir)\n",
    "print(os.listdir('.')[:10])\n",
    "\n",
    "if not shuffled:\n",
    "    imglist = np.array(os.listdir('.')) # store names of all the images in a list\n",
    "    np.random.shuffle(imglist) # random shuffle the list of names\n",
    "    shuffled = True\n",
    "    print('test set shuffled')\n",
    "else:\n",
    "    print('test set already shuffled')"
   ]
  },
  {
   "cell_type": "code",
   "execution_count": 25,
   "metadata": {
    "collapsed": false
   },
   "outputs": [
    {
     "data": {
      "image/png": "[encoded data removed]",
      "text/plain": [
       "<matplotlib.figure.Figure at 0x7f9f5cda6710>"
      ]
     },
     "metadata": {},
     "output_type": "display_data"
    }
   ],
   "source": [
    "fig, ax = plt.subplots(1,5,figsize=((16,16))) # create 5 subplots for plotting the pics\n",
    "search = 0\n",
    "number_of_pics = 0\n",
    "imlist = [] # list of the 5 pictures for the model to test on.\n",
    "while number_of_pics < 5:\n",
    "    img = plt.imread(imglist[search])\n",
    "    if 30 < img.shape[0] < 35 and 30 < img.shape[1] <35: # choose the pics which have similar shape with (32,32)\n",
    "        imlist.append(imglist[search])\n",
    "        ax[number_of_pics].set_title(imglist[search])\n",
    "        ax[number_of_pics].imshow(img)\n",
    "        number_of_pics += 1\n",
    "    search += 1"
   ]
  },
  {
   "cell_type": "code",
   "execution_count": 26,
   "metadata": {
    "collapsed": false
   },
   "outputs": [
    {
     "name": "stdout",
     "output_type": "stream",
     "text": [
      "(34, 32, 3)\n",
      "(33, 33, 3)\n",
      "(32, 31, 3)\n",
      "(34, 34, 3)\n",
      "(32, 32, 3)\n"
     ]
    }
   ],
   "source": [
    "for ind in range(5):\n",
    "    print(plt.imread(imlist[ind]).shape) # print the shape of the 5 pics"
   ]
  },
  {
   "cell_type": "markdown",
   "metadata": {},
   "source": [
    "### Convert the 5 pics' shape to (32,32)"
   ]
  },
  {
   "cell_type": "code",
   "execution_count": 27,
   "metadata": {
    "collapsed": true
   },
   "outputs": [],
   "source": [
    "def pixel32(fig,imgarray):\n",
    "    if (fig.shape[0] >= 32 and fig.shape[1] >= 32): # width and height bigger than 32 pixels\n",
    "        left = max(int(fig.shape[0]/2) - 16,0)\n",
    "        right = left + 32\n",
    "        down = max(int(fig.shape[1]/2) - 16,0)\n",
    "        up = down + 32\n",
    "        imgarray = np.append(imgarray, (fig[left:right,down:up,:])[None,...], axis = 0)\n",
    "    elif (fig.shape[0] < 32 and fig.shape[1] >= 32): # width bigger than 32, height less than 32\n",
    "        fig = np.append(fig, np.zeros((32 - fig.shape[0], fig.shape[1], 3)), axis = 0)\n",
    "        down = max(int(fig.shape[1]/2) - 16,0)\n",
    "        up = down + 32\n",
    "        fig = fig[:,down:up,:]\n",
    "        imgarray = np.append(imgarray, fig[None,...], axis = 0)\n",
    "    elif (fig.shape[0] >= 32 and fig.shape[1] < 32): # width bigger than 32, height less than 32\n",
    "        fig = np.append(fig, np.zeros((fig.shape[0], 32 - fig.shape[1], 3)), axis = 1)\n",
    "        left = max(int(fig.shape[0]/2) - 16,0)\n",
    "        right = left + 32\n",
    "        fig = fig[left:right,...]\n",
    "        imgarray = np.append(imgarray, fig[None,...], axis = 0)\n",
    "    else: # width and height are less than 32\n",
    "        shape0 = fig.shape[0]\n",
    "        fig = np.append(fig, np.zeros((32 - fig.shape[0], fig.shape[1], 3)), axis = 0)\n",
    "        fig = np.append(fig, np.zeros((fig.shape[0], 32 - shape0, 3)), axis = 1)\n",
    "        imgarray = np.append(imgarray, fig[None,...], axis = 0)\n",
    "    return imgarray"
   ]
  },
  {
   "cell_type": "code",
   "execution_count": 28,
   "metadata": {
    "collapsed": false
   },
   "outputs": [],
   "source": [
    "imgarr = np.zeros((1,32,32,3)) # ndarray for 5 pics\n",
    "for ind in range(5):\n",
    "    imgarr = pixel32(plt.imread(imlist[ind]),imgarr) # convert the images and add to the ndarray"
   ]
  },
  {
   "cell_type": "code",
   "execution_count": 29,
   "metadata": {
    "collapsed": false
   },
   "outputs": [
    {
     "name": "stdout",
     "output_type": "stream",
     "text": [
      "shape of pictures after grayscaling is (32, 32, 1)\n"
     ]
    }
   ],
   "source": [
    "imgarr_gray = grayimg(imgarr) # grayscale\n",
    "imgarr_gray = normal_pics(imgarr_gray) # normalization\n",
    "if imgarr_gray.ndim ==3:\n",
    "    imgarr_gray = imgarr_gray[...,None] # add a dimension\n",
    "print('shape of pictures after grayscaling is {}'.format(imgarr_gray[1].shape))"
   ]
  },
  {
   "cell_type": "code",
   "execution_count": 30,
   "metadata": {
    "collapsed": false
   },
   "outputs": [
    {
     "data": {
      "image/png": "[encoded data removed]",
      "text/plain": [
       "<matplotlib.figure.Figure at 0x7f9f5cd5f780>"
      ]
     },
     "metadata": {},
     "output_type": "display_data"
    }
   ],
   "source": [
    "fig, ax = plt.subplots(1,5,figsize=((16,16))) # plot the grayscaled pics\n",
    "for ind in range(5):\n",
    "    ax[ind].set_title(imlist[ind])\n",
    "    ax[ind].imshow(imgarr_gray[ind+1].squeeze(), cmap = 'gray')"
   ]
  },
  {
   "cell_type": "markdown",
   "metadata": {},
   "source": [
    "### Predict the Sign Type for Each Image"
   ]
  },
  {
   "cell_type": "code",
   "execution_count": 31,
   "metadata": {
    "collapsed": false
   },
   "outputs": [
    {
     "name": "stdout",
     "output_type": "stream",
     "text": [
      "/home/carnd/traffic-signs/GTSRB/Final_Test/Images\n",
      "Changing to Home_dir.\n"
     ]
    }
   ],
   "source": [
    "# os.chdir('/home/carnd/traffic-signs')\n",
    "print(os.getcwd()) # remind to change the folder\n",
    "os.chdir(Home_dir)\n",
    "print('Changing to Home_dir.')\n",
    "\n",
    "y1 = tf.placeholder(tf.int32, (None))\n",
    "with tf.Session() as sess:\n",
    "    sess.run(tf.global_variables_initializer())\n",
    "    # saver.restore(sess, tf.train.latest_checkpoint('.'))\n",
    "    saver = tf.train.import_meta_graph(Home_dir + '/lenet.meta')\n",
    "    saver.restore(sess, Home_dir + '/lenet') # restore the model, remind to change the folder\n",
    "    y1 = sess.run(tf.nn.softmax(logits), feed_dict = {x: imgarr_gray[1:]}) # classify the 5 pics\n",
    "    # accuracy = sess.run(accuracy_operation, feed_dict={x: batch_x, y: batch_y})"
   ]
  },
  {
   "cell_type": "code",
   "execution_count": 32,
   "metadata": {
    "collapsed": false
   },
   "outputs": [
    {
     "name": "stdout",
     "output_type": "stream",
     "text": [
      "model prediction: [7, 3, 1, 2, 3]\n"
     ]
    }
   ],
   "source": [
    "imlist_predict_labels = list(np.argmax(y1, axis = 1)) # class of the 5 pics\n",
    "print('model prediction:', imlist_predict_labels)"
   ]
  },
  {
   "cell_type": "markdown",
   "metadata": {},
   "source": [
    "### Analyze Performance"
   ]
  },
  {
   "cell_type": "code",
   "execution_count": 33,
   "metadata": {
    "collapsed": false
   },
   "outputs": [
    {
     "name": "stdout",
     "output_type": "stream",
     "text": [
      "Changing to GTSRB_dir.\n",
      "Files exist.\n",
      "All information of test set is imported.\n"
     ]
    }
   ],
   "source": [
    "### Calculate the accuracy for these 5 new images. \n",
    "### For example, if the model predicted 1 out of 5 signs correctly, it's 20% accurate on these new images.\n",
    "\n",
    "os.chdir(GTSRB_dir) # remember to change the folder\n",
    "print('Changing to GTSRB_dir.')\n",
    "if not glob.glob('GTSRB_Final_Test_GT.zip'): # download the test images if there aren't\n",
    "    f, header = ulr.urlretrieve('http://benchmark.ini.rub.de/Dataset/GTSRB_Final_Test_GT.zip', 'GTSRB_Final_Test_GT.zip')\n",
    "    with zipfile.ZipFile(f,'r') as fcsv: # unzip the zip file\n",
    "        fcsv.extractall()\n",
    "    print('Data downloaded and unziped.')\n",
    "else:\n",
    "    print('Files exist.')\n",
    "    \n",
    "# print(imlist) # names of the 5 pics\n",
    "all_info = [] # information of the test pics\n",
    "\n",
    "with open('GT-final_test.csv','rb') as f:\n",
    "    for row in f:\n",
    "        all_info.append(row.decode('utf-8'))\n",
    "    print('All information of test set is imported.')"
   ]
  },
  {
   "cell_type": "code",
   "execution_count": 34,
   "metadata": {
    "collapsed": false
   },
   "outputs": [
    {
     "name": "stdout",
     "output_type": "stream",
     "text": [
      "names in all_info: ['00000.ppm', '00001.ppm', '00002.ppm', '00003.ppm', '00004.ppm']\n"
     ]
    }
   ],
   "source": [
    "print('names in all_info:', [a.split(';')[0] for a in all_info[1:6]])"
   ]
  },
  {
   "cell_type": "code",
   "execution_count": 35,
   "metadata": {
    "collapsed": false
   },
   "outputs": [
    {
     "name": "stdout",
     "output_type": "stream",
     "text": [
      "names in imglist (shuffled): ['05806.ppm' '07505.ppm' '04876.ppm' '05447.ppm' '10345.ppm']\n"
     ]
    }
   ],
   "source": [
    "print('names in imglist (shuffled):', imglist[:5])"
   ]
  },
  {
   "cell_type": "markdown",
   "metadata": {},
   "source": [
    "### True labels of these 5 pictures and Model predictions of test pictures"
   ]
  },
  {
   "cell_type": "code",
   "execution_count": 36,
   "metadata": {
    "collapsed": false
   },
   "outputs": [
    {
     "name": "stdout",
     "output_type": "stream",
     "text": [
      "All variables used.\n"
     ]
    }
   ],
   "source": [
    "'''\n",
    "all_info: list # name,...,label\n",
    "imglist: list # name\n",
    " \n",
    "imlist: list # name \n",
    "pic_name: list # name\n",
    "pic_label: list # name\n",
    "\n",
    "\n",
    "imlist_predict_labels: list # name, label\n",
    "imlist_predict_dict: dict # name: label\n",
    "\n",
    "imlist_true_labels: list # name, label\n",
    "imlist_true_dict: dict # name: label\n",
    "'''\n",
    "print('All variables used.')"
   ]
  },
  {
   "cell_type": "code",
   "execution_count": 37,
   "metadata": {
    "collapsed": true
   },
   "outputs": [],
   "source": [
    "def sort_by(x):\n",
    "    '''sort dict by its value'''\n",
    "    # dict_a = sorted(x.items(), key=lambda d:d[0])\n",
    "    dict_a = [(k,x[k]) for k in sorted(x.keys())]\n",
    "    return dict_a"
   ]
  },
  {
   "cell_type": "code",
   "execution_count": 38,
   "metadata": {
    "collapsed": false
   },
   "outputs": [
    {
     "name": "stdout",
     "output_type": "stream",
     "text": [
      "Finding 0's true label...\n",
      "Finding 1's true label...\n",
      "Finding 2's true label...\n",
      "Finding 3's true label...\n",
      "Finding 4's true label...\n",
      "\n",
      "shuffled name list:\t\t\t ['04703.ppm', '02182.ppm', '01710.ppm', '02699.ppm', '12499.ppm']\n",
      "all info name list in shuffled order:\t ['04703.ppm', '02182.ppm', '01710.ppm', '02699.ppm', '12499.ppm']\n",
      "\n",
      "model prediction:\t [7, 3, 1, 2, 3]\n",
      "true labels:\t\t [7, 3, 1, 5, 3]\n",
      "\n",
      "model prediction dict:\t {'01710.ppm': 1, '04703.ppm': 7, '02699.ppm': 2, '12499.ppm': 3, '02182.ppm': 3}\n",
      "true labels dict:\t {'01710.ppm': 1, '04703.ppm': 7, '02699.ppm': 5, '12499.ppm': 3, '02182.ppm': 3}\n"
     ]
    }
   ],
   "source": [
    "imlist_true_labels = [] # true labels of pics and their names\n",
    "imlist_true_dict = {}\n",
    "pic_name = [] \n",
    "pic_label = []\n",
    "name = []\n",
    "for imlist_ind in range(5):\n",
    "    ind = 0\n",
    "    while len(imlist_true_labels) < 5:\n",
    "        name = all_info[ind].split(';')[0]\n",
    "        label = all_info[ind].split(';')[7].rstrip() # strip '\\r\\n' \n",
    "        if name == imlist[len(imlist_true_labels)]: # find the pic\n",
    "            imlist_true_labels.append(int(label))\n",
    "            pic_name.append(name)\n",
    "            pic_label.append(int(label))\n",
    "            print('Finding {}\\'s true label...'.format(imlist_ind))\n",
    "            break\n",
    "        ind += 1\n",
    "imlist_predict_dict = dict(zip(imlist,imlist_predict_labels))\n",
    "imlist_true_dict = dict(zip(pic_name,pic_label))\n",
    "\n",
    "print()\n",
    "print('shuffled name list:\\t\\t\\t', imlist)\n",
    "print('all info name list in shuffled order:\\t', pic_name)\n",
    "print('\\nmodel prediction:\\t', imlist_predict_labels)\n",
    "print('true labels:\\t\\t', imlist_true_labels)\n",
    "\n",
    "print('\\nmodel prediction dict:\\t', imlist_predict_dict)\n",
    "print('true labels dict:\\t', imlist_true_dict)"
   ]
  },
  {
   "cell_type": "code",
   "execution_count": 39,
   "metadata": {
    "collapsed": false
   },
   "outputs": [
    {
     "name": "stdout",
     "output_type": "stream",
     "text": [
      "           True label  Model prediction Result\n",
      "01710.ppm           1                 1   True\n",
      "04703.ppm           7                 7   True\n",
      "02699.ppm           5                 2   True\n",
      "12499.ppm           3                 3  False\n",
      "02182.ppm           3                 3   True \n",
      "\n",
      "Model prediction's accuracy on 5 new images is 80.0%\n"
     ]
    }
   ],
   "source": [
    "def acc_of(dict1, dict2, list1):\n",
    "    '''receive two dict and one name list,\n",
    "    return Logical array\n",
    "    '''\n",
    "    acc = []\n",
    "    for name in list1:\n",
    "        acc.append(dict1[name] == dict2[name])\n",
    "    return acc\n",
    "\n",
    "accuracy_5_pics = acc_of(imlist_true_dict, imlist_predict_dict, imlist) \n",
    "\n",
    "# put them into a dataframe \n",
    "test_5_pics = pd.DataFrame(data = list(imlist_true_dict.values()), index = imlist_true_dict.keys())\n",
    "test_5_pics['1'] = list(imlist_predict_dict.values())\n",
    "test_5_pics['2'] = accuracy_5_pics\n",
    "test_5_pics.columns = ['True label','Model prediction','Result']\n",
    "print(test_5_pics,'\\n')\n",
    "\n",
    "accuracy = sum(accuracy_5_pics)\n",
    "accuracy = accuracy / 5 * 100\n",
    "print('Model prediction\\'s accuracy on 5 new images is {}%'.format(str(accuracy)))"
   ]
  },
  {
   "cell_type": "markdown",
   "metadata": {},
   "source": [
    "### Output Top 5 Softmax Probabilities For Each Image Found on the Web"
   ]
  },
  {
   "cell_type": "markdown",
   "metadata": {},
   "source": [
    "For each of the new images, print out the model's softmax probabilities to show the **certainty** of the model's predictions (limit the output to the top 5 probabilities for each image). [`tf.nn.top_k`](https://www.tensorflow.org/versions/r0.12/api_docs/python/nn.html#top_k) could prove helpful here. \n",
    "\n",
    "The example below demonstrates how tf.nn.top_k can be used to find the top k predictions for each image.\n",
    "\n",
    "`tf.nn.top_k` will return the values and indices (class ids) of the top k predictions. So if k=3, for each sign, it'll return the 3 largest probabilities (out of a possible 43) and the correspoding class ids.\n",
    "\n",
    "Take this numpy array as an example. The values in the array represent predictions. The array contains softmax probabilities for five candidate images with six possible classes. `tk.nn.top_k` is used to choose the three classes with the highest probability:\n",
    "\n",
    "```\n",
    "# (5, 6) array\n",
    "a = np.array([[ 0.24879643,  0.07032244,  0.12641572,  0.34763842,  0.07893497,\n",
    "         0.12789202],\n",
    "       [ 0.28086119,  0.27569815,  0.08594638,  0.0178669 ,  0.18063401,\n",
    "         0.15899337],\n",
    "       [ 0.26076848,  0.23664738,  0.08020603,  0.07001922,  0.1134371 ,\n",
    "         0.23892179],\n",
    "       [ 0.11943333,  0.29198961,  0.02605103,  0.26234032,  0.1351348 ,\n",
    "         0.16505091],\n",
    "       [ 0.09561176,  0.34396535,  0.0643941 ,  0.16240774,  0.24206137,\n",
    "         0.09155967]])\n",
    "```\n",
    "\n",
    "Running it through `sess.run(tf.nn.top_k(tf.constant(a), k=3))` produces:\n",
    "\n",
    "```\n",
    "TopKV2(values=array([[ 0.34763842,  0.24879643,  0.12789202],\n",
    "       [ 0.28086119,  0.27569815,  0.18063401],\n",
    "       [ 0.26076848,  0.23892179,  0.23664738],\n",
    "       [ 0.29198961,  0.26234032,  0.16505091],\n",
    "       [ 0.34396535,  0.24206137,  0.16240774]]), indices=array([[3, 0, 5],\n",
    "       [0, 1, 4],\n",
    "       [0, 5, 1],\n",
    "       [1, 3, 5],\n",
    "       [1, 4, 3]], dtype=int32))\n",
    "```\n",
    "\n",
    "Looking just at the first row we get `[ 0.34763842,  0.24879643,  0.12789202]`, you can confirm these are the 3 largest probabilities in `a`. You'll also notice `[3, 0, 5]` are the corresponding indices."
   ]
  },
  {
   "cell_type": "code",
   "execution_count": 40,
   "metadata": {
    "collapsed": false,
    "scrolled": false
   },
   "outputs": [
    {
     "name": "stdout",
     "output_type": "stream",
     "text": [
      "TopKV2(values=array([[  1.00000000e+00,   3.25683338e-08,   2.86448695e-11,\n",
      "          2.28039322e-16,   5.63218684e-20],\n",
      "       [  1.00000000e+00,   5.34505051e-10,   1.98024301e-12,\n",
      "          8.38866736e-13,   1.06546242e-13],\n",
      "       [  9.99387145e-01,   6.12834352e-04,   5.82028719e-08,\n",
      "          1.08614812e-10,   8.53822776e-11],\n",
      "       [  4.80067760e-01,   2.69193590e-01,   2.11379230e-01,\n",
      "          2.51446050e-02,   4.77975421e-03],\n",
      "       [  1.00000000e+00,   1.21361809e-10,   2.50693943e-13,\n",
      "          1.13938698e-13,   1.36637468e-14]], dtype=float32), indices=array([[ 7,  8,  5, 40, 16],\n",
      "       [ 3,  5, 29,  6,  2],\n",
      "       [ 1,  0,  4,  2,  7],\n",
      "       [ 2, 28,  3, 40,  6],\n",
      "       [ 3,  5,  2, 28, 11]], dtype=int32))\n"
     ]
    }
   ],
   "source": [
    "### Print out the top five softmax probabilities for the predictions on the German traffic sign images found on the web. \n",
    "### Feel free to use as many code cells as needed.\n",
    "with tf.Session() as sess:\n",
    "    saver.restore(sess,  Home_dir + '/lenet')\n",
    "    top_5 = sess.run(tf.nn.top_k(tf.constant(y1), k = 5))\n",
    "    \n",
    "print(top_5)"
   ]
  },
  {
   "cell_type": "code",
   "execution_count": 41,
   "metadata": {
    "collapsed": false
   },
   "outputs": [
    {
     "name": "stdout",
     "output_type": "stream",
     "text": [
      "Certainty of the model's predictions:\n",
      "           label 1  Prob.1 Result  label 2  Prob.2 Result  label 3  Prob.3 Result  label 4  Prob.4 Result  label 5  Prob.5 Result\n",
      "04703.ppm        7  100.0%      ✔        8    0.0%      ✘        5    0.0%      ✘       40    0.0%      ✘       16    0.0%      ✘\n",
      "02182.ppm        3  100.0%      ✔        5    0.0%      ✘       29    0.0%      ✘        6    0.0%      ✘        2    0.0%      ✘\n",
      "01710.ppm        1   99.9%      ✔        0    0.1%      ✘        4    0.0%      ✘        2    0.0%      ✘        7    0.0%      ✘\n",
      "02699.ppm        2   48.5%      ✘       28   27.2%      ✘        3   21.3%      ✘       40    2.5%      ✘        6    0.5%      ✘\n",
      "12499.ppm        3  100.0%      ✔        5    0.0%      ✘        2    0.0%      ✘       28    0.0%      ✘       11    0.0%      ✘\n"
     ]
    }
   ],
   "source": [
    "top_5_prob = np.divide(top_5.values, np.expand_dims(np.sum(top_5.values, axis = 1),axis=1))\n",
    "top_5_prob = pd.DataFrame(data = np.append(top_5_prob * 100, top_5.indices.astype(int), axis = 1), index = imlist)\n",
    "# np.set_printoptions(precision = 2)\n",
    "col_names = []\n",
    "print('Certainty of the model\\'s predictions:')\n",
    "\n",
    "with pd.option_context('display.float_format', lambda x: '%.1f%%' % x, 'display.width', 300):\n",
    "    for ind in range(5):\n",
    "        col = top_5_prob.pop(ind+5)\n",
    "        top_5_prob.insert(2*ind ,str(ind), col.astype(int))\n",
    "        col_names.append('label' + ' ' + str(ind + 1))\n",
    "        col_names.append('Prob.' + str(ind + 1))\n",
    "        \n",
    "    top_5_prob.columns = col_names\n",
    "    \n",
    "    for ind in range(5):\n",
    "        right = list(top_5.indices[:,ind] == imlist_true_labels)\n",
    "        mark = []\n",
    "        for a in right:\n",
    "            if a:\n",
    "                mark.append(u'\\u2714')\n",
    "            else:\n",
    "                mark.append(u'\\u2718')\n",
    "        top_5_prob.insert(3 * (ind + 1) - 1,'Result',mark,allow_duplicates=True)\n",
    "\n",
    "    print(top_5_prob)"
   ]
  },
  {
   "cell_type": "markdown",
   "metadata": {},
   "source": [
    "### Project Writeup\n",
    "\n",
    "Once you have completed the code implementation, document your results in a project writeup using this [template](https://github.com/udacity/CarND-Traffic-Sign-Classifier-Project/blob/master/writeup_template.md) as a guide. The writeup can be in a markdown or pdf file. "
   ]
  },
  {
   "cell_type": "markdown",
   "metadata": {},
   "source": [
    "> **Note**: Once you have completed all of the code implementations and successfully answered each question above, you may finalize your work by exporting the iPython Notebook as an HTML document. You can do this by using the menu above and navigating to  \\n\",\n",
    "    \"**File -> Download as -> HTML (.html)**. Include the finished document along with this notebook as your submission."
   ]
  },
  {
   "cell_type": "markdown",
   "metadata": {},
   "source": [
    "---\n",
    "\n",
    "## Step 4 (Optional): Visualize the Neural Network's State with Test Images\n",
    "\n",
    " This Section is not required to complete but acts as an additional excersise for understaning the output of a neural network's weights. While neural networks can be a great learning device they are often referred to as a black box. We can understand what the weights of a neural network look like better by plotting their feature maps. After successfully training your neural network you can see what it's feature maps look like by plotting the output of the network's weight layers in response to a test stimuli image. From these plotted feature maps, it's possible to see what characteristics of an image the network finds interesting. For a sign, maybe the inner network feature maps react with high activation to the sign's boundary outline or to the contrast in the sign's painted symbol.\n",
    "\n",
    " Provided for you below is the function code that allows you to get the visualization output of any tensorflow weight layer you want. The inputs to the function should be a stimuli image, one used during training or a new one you provided, and then the tensorflow variable name that represents the layer's state during the training process, for instance if you wanted to see what the [LeNet lab's](https://classroom.udacity.com/nanodegrees/nd013/parts/fbf77062-5703-404e-b60c-95b78b2f3f9e/modules/6df7ae49-c61c-4bb2-a23e-6527e69209ec/lessons/601ae704-1035-4287-8b11-e2c2716217ad/concepts/d4aca031-508f-4e0b-b493-e7b706120f81) feature maps looked like for it's second convolutional layer you could enter conv2 as the tf_activation variable.\n",
    "\n",
    "For an example of what feature map outputs look like, check out NVIDIA's results in their paper [End-to-End Deep Learning for Self-Driving Cars](https://devblogs.nvidia.com/parallelforall/deep-learning-self-driving-cars/) in the section Visualization of internal CNN State. NVIDIA was able to show that their network's inner weights had high activations to road boundary lines by comparing feature maps from an image with a clear path to one without. Try experimenting with a similar test to show that your trained network's weights are looking for interesting features, whether it's looking at differences in feature maps from images with or without a sign, or even what feature maps look like in a trained network vs a completely untrained one on the same sign image.\n",
    "\n",
    "<figure>\n",
    " <img src=\"visualize_cnn.png\" width=\"380\" alt=\"Combined Image\" />\n",
    " <figcaption>\n",
    " <p></p> \n",
    " <p style=\"text-align: center;\"> Your output should look something like this (above)</p> \n",
    " </figcaption>\n",
    "</figure>\n",
    " <p></p> \n"
   ]
  },
  {
   "cell_type": "code",
   "execution_count": 42,
   "metadata": {
    "collapsed": true
   },
   "outputs": [],
   "source": [
    "### Visualize your network's feature maps here.\n",
    "### Feel free to use as many code cells as needed.\n",
    "\n",
    "# image_input: the test image being fed into the network to produce the feature maps\n",
    "# tf_activation: should be a tf variable name used during your training procedure that represents the calculated state of a specific weight layer\n",
    "# activation_min/max: can be used to view the activation contrast in more detail, by default matplot sets min and max to the actual min and max values of the output\n",
    "# plt_num: used to plot out multiple different weight feature map sets on the same block, just extend the plt number for each new feature map entry\n",
    "\n",
    "def outputFeatureMap(image_input, tf_activation, activation_min=-1, activation_max=-1 ,plt_num=1):\n",
    "    # Here make sure to preprocess your image_input in a way your network expects\n",
    "    # with size, normalization, ect if needed\n",
    "    # image_input =\n",
    "    # Note: x should be the same name as your network's tensorflow data placeholder variable\n",
    "    # If you get an error tf_activation is not defined it may be having trouble accessing the variable from inside a function\n",
    "    activation = tf_activation.eval(session=sess,feed_dict={x : image_input})\n",
    "    featuremaps = activation.shape[3]\n",
    "    plt.figure(plt_num, figsize=(15,15))\n",
    "    for featuremap in range(featuremaps):\n",
    "        plt.subplot(6,8, featuremap+1) # sets the number of feature maps to show on each row and column\n",
    "        plt.title('FeatureMap ' + str(featuremap)) # displays the feature map number\n",
    "        if activation_min != -1 & activation_max != -1:\n",
    "            plt.imshow(activation[0,:,:, featuremap], interpolation=\"nearest\", vmin =activation_min, vmax=activation_max, cmap=\"gray\")\n",
    "        elif activation_max != -1:\n",
    "            plt.imshow(activation[0,:,:, featuremap], interpolation=\"nearest\", vmax=activation_max, cmap=\"gray\")\n",
    "        elif activation_min !=-1:\n",
    "            plt.imshow(activation[0,:,:, featuremap], interpolation=\"nearest\", vmin=activation_min, cmap=\"gray\")\n",
    "        else:\n",
    "            plt.imshow(activation[0,:,:, featuremap], interpolation=\"nearest\", cmap=\"gray\")"
   ]
  },
  {
   "cell_type": "code",
   "execution_count": 43,
   "metadata": {
    "collapsed": false
   },
   "outputs": [
    {
     "name": "stdout",
     "output_type": "stream",
     "text": [
      "This is default graph.\n"
     ]
    },
    {
     "data": {
      "image/png": "[encoded data removed]",
      "text/plain": [
       "<matplotlib.figure.Figure at 0x7f9f5ccce0b8>"
      ]
     },
     "metadata": {},
     "output_type": "display_data"
    },
    {
     "data": {
      "image/png": "[encoded data removed]",
      "text/plain": [
       "<matplotlib.figure.Figure at 0x7f9f8fda07f0>"
      ]
     },
     "metadata": {},
     "output_type": "display_data"
    }
   ],
   "source": [
    "from tensorflow.contrib import graph_editor as ge\n",
    "with tf.Session() as sess:\n",
    "    # sess.run(tf.global_variables_initializer())\n",
    "    saver = tf.train.import_meta_graph(Home_dir + '/lenet.meta')\n",
    "    saver.restore(sess,  Home_dir + '/lenet')\n",
    "    print('This is default graph.') if (sess.graph == tf.get_default_graph()) else print('not default graph')\n",
    "    graph = tf.get_default_graph()\n",
    "    \n",
    "    '''\n",
    "    #tensors tensors = tf.global_variables()\n",
    "    tensors = ge.get_tensors(graph)  \n",
    "    tensor_names = [a.name for a in tensors]\n",
    "    # myconv = [a for a in tensor_names if 'myconv' in a ]\n",
    "    # print(myconv)\n",
    "    \n",
    "    # operations \n",
    "    operations = graph.get_operations()\n",
    "    operations_names = [a.name for a in operations]\n",
    "    # print(operations_names[:5])\n",
    "    '''\n",
    "    \n",
    "    my_act1 = graph.get_tensor_by_name('myconv1:0')\n",
    "    my_act2 = graph.get_tensor_by_name('myconv2:0')\n",
    "    # print(type(layer))\n",
    "    outputFeatureMap(np.expand_dims(imgarr_gray[2],0), my_act1,activation_min=-1, activation_max=-1 ,plt_num=1)\n",
    "    outputFeatureMap(np.expand_dims(imgarr_gray[2],0), my_act2,activation_min=-1, activation_max=-1 ,plt_num=2)"
   ]
  }
 ],
 "metadata": {
  "anaconda-cloud": {},
  "kernelspec": {
   "display_name": "Python [conda env:carnd-term1]",
   "language": "python",
   "name": "conda-env-carnd-term1-py"
  },
  "language_info": {
   "codemirror_mode": {
    "name": "ipython",
    "version": 3
   },
   "file_extension": ".py",
   "mimetype": "text/x-python",
   "name": "python",
   "nbconvert_exporter": "python",
   "pygments_lexer": "ipython3",
   "version": "3.5.2"
  }
 },
 "nbformat": 4,
 "nbformat_minor": 1
}
